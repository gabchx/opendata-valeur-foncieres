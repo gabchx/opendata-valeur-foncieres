{
  "nbformat": 4,
  "nbformat_minor": 0,
  "metadata": {
    "colab": {
      "provenance": [],
      "collapsed_sections": [
        "fjUx1Qy4t68r",
        "eLFc9oyqrN_A"
      ],
      "authorship_tag": "ABX9TyPwc/iqeQD5XEuEL0MPhnZ8",
      "include_colab_link": true
    },
    "kernelspec": {
      "name": "python3",
      "display_name": "Python 3"
    },
    "language_info": {
      "name": "python"
    }
  },
  "cells": [
    {
      "cell_type": "markdown",
      "metadata": {
        "id": "view-in-github",
        "colab_type": "text"
      },
      "source": [
        "<a href=\"https://colab.research.google.com/github/gabchx/opendata-valeur-foncieres/blob/main/Python_TD8_9_CHAIX.ipynb\" target=\"_parent\"><img src=\"https://colab.research.google.com/assets/colab-badge.svg\" alt=\"Open In Colab\"/></a>"
      ]
    },
    {
      "cell_type": "markdown",
      "source": [
        "                                                     Gabriel Chaix 33% | Nom2 33% | Nom3 33%\n",
        "#TD 8/9 : Analyse des données\n",
        "##**Demandes de valeurs foncières**\n",
        "\n",
        "###*Dataset OpenData :*\n",
        "> [data.gouv.fr/demandes-de-valeurs-foncieres](https://www.data.gouv.fr/fr/datasets/demandes-de-valeurs-foncieres/)\n",
        "\n",
        "---\n",
        "\n",
        "Il s'agit des transactions immobilières intervenues au cours des cinq dernières années sur le territoire métropolitain et les DOM-TOM, à l’exception de l’Alsace, de la Moselle et de Mayotte. Les données contenues sont issues des actes notariés et des informations cadastrales.\n",
        "\n"
      ],
      "metadata": {
        "id": "4ukQU0zhlkSo"
      }
    },
    {
      "cell_type": "code",
      "execution_count": null,
      "metadata": {
        "id": "rOU7e5Y6lU-0"
      },
      "outputs": [],
      "source": []
    },
    {
      "cell_type": "markdown",
      "source": [
        "\n",
        "\n",
        "---\n",
        "\n",
        "\n",
        "##**Rapport :**\n",
        "\n",
        "##### blablablabalbalb\n",
        "abla lbalba lb albalblbl abllblab lblbl\n",
        "\n",
        "---\n",
        "\n"
      ],
      "metadata": {
        "id": "8_vtRA4lsIv0"
      }
    },
    {
      "cell_type": "markdown",
      "source": [
        "##Libraries"
      ],
      "metadata": {
        "id": "fjUx1Qy4t68r"
      }
    },
    {
      "cell_type": "markdown",
      "source": [
        "Install"
      ],
      "metadata": {
        "id": "5nC27r0Tt91l"
      }
    },
    {
      "cell_type": "code",
      "source": [
        "# install calmap pour colab\n",
        "#! pip install calmap"
      ],
      "metadata": {
        "id": "13PaD8htuH8t"
      },
      "execution_count": null,
      "outputs": []
    },
    {
      "cell_type": "code",
      "source": [
        "#mettre à jour plotly pour colab\n",
        "#!pip install plotly==4.5.2\n",
        "#!pip install plotly\n",
        "!pip install geopandas"
      ],
      "metadata": {
        "id": "dNVcO7P3uB6_",
        "colab": {
          "base_uri": "https://localhost:8080/"
        },
        "outputId": "8a0cdceb-fe82-4425-c51a-6617320c622d"
      },
      "execution_count": null,
      "outputs": [
        {
          "output_type": "stream",
          "name": "stdout",
          "text": [
            "Looking in indexes: https://pypi.org/simple, https://us-python.pkg.dev/colab-wheels/public/simple/\n",
            "Collecting geopandas\n",
            "  Downloading geopandas-0.12.2-py3-none-any.whl (1.1 MB)\n",
            "\u001b[2K     \u001b[90m━━━━━━━━━━━━━━━━━━━━━━━━━━━━━━━━━━━━━━━━\u001b[0m \u001b[32m1.1/1.1 MB\u001b[0m \u001b[31m19.6 MB/s\u001b[0m eta \u001b[36m0:00:00\u001b[0m\n",
            "\u001b[?25hRequirement already satisfied: packaging in /usr/local/lib/python3.9/dist-packages (from geopandas) (23.1)\n",
            "Collecting fiona>=1.8\n",
            "  Downloading Fiona-1.9.3-cp39-cp39-manylinux_2_17_x86_64.manylinux2014_x86_64.whl (16.1 MB)\n",
            "\u001b[2K     \u001b[90m━━━━━━━━━━━━━━━━━━━━━━━━━━━━━━━━━━━━━━━━\u001b[0m \u001b[32m16.1/16.1 MB\u001b[0m \u001b[31m15.1 MB/s\u001b[0m eta \u001b[36m0:00:00\u001b[0m\n",
            "\u001b[?25hRequirement already satisfied: pandas>=1.0.0 in /usr/local/lib/python3.9/dist-packages (from geopandas) (1.5.3)\n",
            "Requirement already satisfied: shapely>=1.7 in /usr/local/lib/python3.9/dist-packages (from geopandas) (2.0.1)\n",
            "Collecting pyproj>=2.6.1.post1\n",
            "  Downloading pyproj-3.5.0-cp39-cp39-manylinux_2_17_x86_64.manylinux2014_x86_64.whl (7.8 MB)\n",
            "\u001b[2K     \u001b[90m━━━━━━━━━━━━━━━━━━━━━━━━━━━━━━━━━━━━━━━━\u001b[0m \u001b[32m7.8/7.8 MB\u001b[0m \u001b[31m32.3 MB/s\u001b[0m eta \u001b[36m0:00:00\u001b[0m\n",
            "\u001b[?25hRequirement already satisfied: attrs>=19.2.0 in /usr/local/lib/python3.9/dist-packages (from fiona>=1.8->geopandas) (23.1.0)\n",
            "Collecting munch>=2.3.2\n",
            "  Downloading munch-2.5.0-py2.py3-none-any.whl (10 kB)\n",
            "Requirement already satisfied: importlib-metadata in /usr/local/lib/python3.9/dist-packages (from fiona>=1.8->geopandas) (6.6.0)\n",
            "Requirement already satisfied: certifi in /usr/local/lib/python3.9/dist-packages (from fiona>=1.8->geopandas) (2022.12.7)\n",
            "Collecting click-plugins>=1.0\n",
            "  Downloading click_plugins-1.1.1-py2.py3-none-any.whl (7.5 kB)\n",
            "Requirement already satisfied: click~=8.0 in /usr/local/lib/python3.9/dist-packages (from fiona>=1.8->geopandas) (8.1.3)\n",
            "Collecting cligj>=0.5\n",
            "  Downloading cligj-0.7.2-py3-none-any.whl (7.1 kB)\n",
            "Requirement already satisfied: pytz>=2020.1 in /usr/local/lib/python3.9/dist-packages (from pandas>=1.0.0->geopandas) (2022.7.1)\n",
            "Requirement already satisfied: numpy>=1.20.3 in /usr/local/lib/python3.9/dist-packages (from pandas>=1.0.0->geopandas) (1.22.4)\n",
            "Requirement already satisfied: python-dateutil>=2.8.1 in /usr/local/lib/python3.9/dist-packages (from pandas>=1.0.0->geopandas) (2.8.2)\n",
            "Requirement already satisfied: six in /usr/local/lib/python3.9/dist-packages (from munch>=2.3.2->fiona>=1.8->geopandas) (1.16.0)\n",
            "Requirement already satisfied: zipp>=0.5 in /usr/local/lib/python3.9/dist-packages (from importlib-metadata->fiona>=1.8->geopandas) (3.15.0)\n",
            "Installing collected packages: pyproj, munch, cligj, click-plugins, fiona, geopandas\n",
            "Successfully installed click-plugins-1.1.1 cligj-0.7.2 fiona-1.9.3 geopandas-0.12.2 munch-2.5.0 pyproj-3.5.0\n"
          ]
        }
      ]
    },
    {
      "cell_type": "markdown",
      "source": [
        "Imports"
      ],
      "metadata": {
        "id": "Vtm4Z5X9uA4X"
      }
    },
    {
      "cell_type": "code",
      "source": [
        "# libraries essentielles\n",
        "import json\n",
        "import requests\n",
        "import random\n",
        "from urllib.request import urlopen\n",
        "\n",
        "# analyse et stockage\n",
        "import numpy as np\n",
        "import pandas as pd\n",
        "\n",
        "# visualisation\n",
        "import matplotlib.pyplot as plt\n",
        "import seaborn as sns\n",
        "import plotly.express as px\n",
        "import geopandas as gpd"
      ],
      "metadata": {
        "id": "Y_jWLb1QuWGd"
      },
      "execution_count": null,
      "outputs": []
    },
    {
      "cell_type": "code",
      "source": [
        "colors1 = ['#DAF7A6', '#FFC300', '#FF5733', '#C70039', '#900C3F', '#581845']\n",
        "colors2 = [\"#e60049\", \"#0bb4ff\", \"#50e991\", \"#e6d800\", \"#9b19f5\", \"#ffa300\", \"#dc0ab4\", \"#b3d4ff\", \"#00bfa0\"]\n",
        "colors3 = [\"#1984c5\", \"#22a7f0\", \"#63bff0\", \"#a7d5ed\", \"#e2e2e2\", \"#e1a692\", \"#de6e56\", \"#e14b31\", \"#c23728\"]"
      ],
      "metadata": {
        "id": "Qi3eLgjprfg_"
      },
      "execution_count": null,
      "outputs": []
    },
    {
      "cell_type": "markdown",
      "source": [
        "##I ] Chargement"
      ],
      "metadata": {
        "id": "eLFc9oyqrN_A"
      }
    },
    {
      "cell_type": "code",
      "source": [
        "df = pd.read_csv('https://static.data.gouv.fr/resources/demandes-de-valeurs-foncieres/20230405-160733/valeursfoncieres-2022.txt', sep = '|')\n",
        "df.info()"
      ],
      "metadata": {
        "id": "ZMqNyO0fuibd",
        "colab": {
          "base_uri": "https://localhost:8080/"
        },
        "outputId": "4d968c27-7807-4f74-bf56-20f7b45036b4"
      },
      "execution_count": null,
      "outputs": [
        {
          "output_type": "stream",
          "name": "stderr",
          "text": [
            "<ipython-input-5-9b8eaf9232ee>:1: DtypeWarning: Columns (18,23,24,26,28,29,31,33,41) have mixed types. Specify dtype option on import or set low_memory=False.\n",
            "  df = pd.read_csv('https://static.data.gouv.fr/resources/demandes-de-valeurs-foncieres/20230405-160733/valeursfoncieres-2022.txt', sep = '|')\n"
          ]
        },
        {
          "output_type": "stream",
          "name": "stdout",
          "text": [
            "<class 'pandas.core.frame.DataFrame'>\n",
            "RangeIndex: 3803885 entries, 0 to 3803884\n",
            "Data columns (total 43 columns):\n",
            " #   Column                      Dtype  \n",
            "---  ------                      -----  \n",
            " 0   Identifiant de document     float64\n",
            " 1   Reference document          float64\n",
            " 2   1 Articles CGI              float64\n",
            " 3   2 Articles CGI              float64\n",
            " 4   3 Articles CGI              float64\n",
            " 5   4 Articles CGI              float64\n",
            " 6   5 Articles CGI              float64\n",
            " 7   No disposition              int64  \n",
            " 8   Date mutation               object \n",
            " 9   Nature mutation             object \n",
            " 10  Valeur fonciere             object \n",
            " 11  No voie                     float64\n",
            " 12  B/T/Q                       object \n",
            " 13  Type de voie                object \n",
            " 14  Code voie                   object \n",
            " 15  Voie                        object \n",
            " 16  Code postal                 float64\n",
            " 17  Commune                     object \n",
            " 18  Code departement            object \n",
            " 19  Code commune                int64  \n",
            " 20  Prefixe de section          float64\n",
            " 21  Section                     object \n",
            " 22  No plan                     int64  \n",
            " 23  No Volume                   object \n",
            " 24  1er lot                     object \n",
            " 25  Surface Carrez du 1er lot   object \n",
            " 26  2eme lot                    object \n",
            " 27  Surface Carrez du 2eme lot  object \n",
            " 28  3eme lot                    object \n",
            " 29  Surface Carrez du 3eme lot  object \n",
            " 30  4eme lot                    float64\n",
            " 31  Surface Carrez du 4eme lot  object \n",
            " 32  5eme lot                    float64\n",
            " 33  Surface Carrez du 5eme lot  object \n",
            " 34  Nombre de lots              int64  \n",
            " 35  Code type local             float64\n",
            " 36  Type local                  object \n",
            " 37  Identifiant local           float64\n",
            " 38  Surface reelle bati         float64\n",
            " 39  Nombre pieces principales   float64\n",
            " 40  Nature culture              object \n",
            " 41  Nature culture speciale     object \n",
            " 42  Surface terrain             float64\n",
            "dtypes: float64(17), int64(4), object(22)\n",
            "memory usage: 1.2+ GB\n"
          ]
        }
      ]
    },
    {
      "cell_type": "code",
      "source": [
        "# formatage des nom de colonnes\n",
        "df = df.rename(columns=lambda x: x.replace(' ', '_').lower())"
      ],
      "metadata": {
        "id": "TlNMuqAELXZL"
      },
      "execution_count": null,
      "outputs": []
    },
    {
      "cell_type": "markdown",
      "source": [
        "##II ] Nettoyage"
      ],
      "metadata": {
        "id": "sOIEweEfrYTI"
      }
    },
    {
      "cell_type": "code",
      "source": [
        "#Vérifier les parts des données manquantes dans la base brutes\n",
        "df.isnull().sum()/len(df)*100"
      ],
      "metadata": {
        "colab": {
          "base_uri": "https://localhost:8080/"
        },
        "id": "ko1q16E5zELI",
        "outputId": "00252e24-14e0-44d7-d269-dbc3bc917208"
      },
      "execution_count": null,
      "outputs": [
        {
          "output_type": "execute_result",
          "data": {
            "text/plain": [
              "identifiant_de_document       100.000000\n",
              "reference_document            100.000000\n",
              "1_articles_cgi                100.000000\n",
              "2_articles_cgi                100.000000\n",
              "3_articles_cgi                100.000000\n",
              "4_articles_cgi                100.000000\n",
              "5_articles_cgi                100.000000\n",
              "no_disposition                  0.000000\n",
              "date_mutation                   0.000000\n",
              "nature_mutation                 0.000000\n",
              "valeur_fonciere                 0.649888\n",
              "no_voie                        34.733621\n",
              "b/t/q                          95.374019\n",
              "type_de_voie                   36.984294\n",
              "code_voie                       1.026398\n",
              "voie                            1.029290\n",
              "code_postal                     1.029816\n",
              "commune                         0.000000\n",
              "code_departement                0.000000\n",
              "code_commune                    0.000000\n",
              "prefixe_de_section             95.824295\n",
              "section                         0.004075\n",
              "no_plan                         0.000000\n",
              "no_volume                      99.765792\n",
              "1er_lot                        66.631142\n",
              "surface_carrez_du_1er_lot      90.332568\n",
              "2eme_lot                       89.535278\n",
              "surface_carrez_du_2eme_lot     96.741752\n",
              "3eme_lot                       98.134670\n",
              "surface_carrez_du_3eme_lot     99.635662\n",
              "4eme_lot                       99.402611\n",
              "surface_carrez_du_4eme_lot     99.911880\n",
              "5eme_lot                       99.744130\n",
              "surface_carrez_du_5eme_lot     99.967481\n",
              "nombre_de_lots                  0.000000\n",
              "code_type_local                39.918478\n",
              "type_local                     39.918478\n",
              "identifiant_local             100.000000\n",
              "surface_reelle_bati            39.973396\n",
              "nombre_pieces_principales      39.973396\n",
              "nature_culture                 33.830912\n",
              "nature_culture_speciale        95.934262\n",
              "surface_terrain                33.830912\n",
              "dtype: float64"
            ]
          },
          "metadata": {},
          "execution_count": 7
        }
      ]
    },
    {
      "cell_type": "code",
      "source": [
        "# suppression des attribut non nécessaire\n",
        "df = df.drop(['identifiant_de_document',\n",
        "              'reference_document',\n",
        "              '1_articles_cgi',\n",
        "              '2_articles_cgi',\n",
        "              '3_articles_cgi',\n",
        "              '4_articles_cgi',\n",
        "              '5_articles_cgi',\n",
        "              'prefixe_de_section',\n",
        "              'no_volume',\n",
        "              '3eme_lot',\n",
        "              '4eme_lot',\n",
        "              '5eme_lot',\n",
        "              'identifiant_local',\n",
        "              'nature_culture_speciale',\n",
        "              ],axis= 1)\n",
        "# suppression des doubles\n",
        "df = df.drop_duplicates()\n",
        "# suppression des ligne null\n",
        "df = df.dropna(how=\"all\")"
      ],
      "metadata": {
        "id": "qDl4s4HsKRe4"
      },
      "execution_count": null,
      "outputs": []
    },
    {
      "cell_type": "code",
      "source": [
        "# correction des type de donnée\n",
        "df['date_mutation'] = pd.to_datetime(df['date_mutation'])\n",
        "df['nature_mutation'] = df['nature_mutation'].astype('category')\n",
        "df['valeur_fonciere'] = df['valeur_fonciere'].str.replace(',', '.').astype('float')\n",
        "df['no_voie'] = df['no_voie'].astype('Int32')\n",
        "df['b/t/q'] = df['b/t/q'].astype('category')\n",
        "df['code_postal'] = df['code_postal'].astype('Int32')\n",
        "df['code_commune'] = df['code_commune'].astype('int32')\n",
        "df['no_plan'] = df['no_plan'].astype('int32')\n",
        "df['1er_lot'] = df['1er_lot'].astype('category')\n",
        "df['2eme_lot'] = df['2eme_lot'].astype('category')\n",
        "df['surface_carrez_du_1er_lot'] = df['surface_carrez_du_1er_lot'].str.replace(',', '.').astype('float')\n",
        "df['surface_carrez_du_2eme_lot'] = df['surface_carrez_du_2eme_lot'].str.replace(',', '.').astype('float')\n",
        "df['surface_carrez_du_3eme_lot'] = df['surface_carrez_du_3eme_lot'].str.replace(',', '.').astype('float')\n",
        "df['surface_carrez_du_4eme_lot'] = df['surface_carrez_du_4eme_lot'].str.replace(',', '.').astype('float')\n",
        "df['surface_carrez_du_5eme_lot'] = df['surface_carrez_du_5eme_lot'].str.replace(',', '.').astype('float')\n",
        "df['nombre_de_lots'] = df['nombre_de_lots'].astype('int32')\n",
        "df['code_type_local'] = df['code_type_local'].astype('Int32')\n",
        "df['type_local'] = df['type_local'].astype('category')\n",
        "df['surface_reelle_bati'] = df['surface_reelle_bati'].astype('float')\n",
        "df['nombre_pieces_principales'] = df['nombre_pieces_principales'].astype('Int32')\n",
        "df['nature_culture'] = df['nature_culture'].astype('category')\n",
        "df['surface_terrain'] = df['surface_terrain'].astype('float')"
      ],
      "metadata": {
        "colab": {
          "base_uri": "https://localhost:8080/"
        },
        "id": "oVrTMrUfUpBc",
        "outputId": "ad193ab7-0a40-4a4c-f1ec-ad70ef9fb819"
      },
      "execution_count": null,
      "outputs": [
        {
          "output_type": "stream",
          "name": "stderr",
          "text": [
            "<ipython-input-9-c2ed93365ed0>:2: UserWarning: Parsing dates in DD/MM/YYYY format when dayfirst=False (the default) was specified. This may lead to inconsistently parsed dates! Specify a format to ensure consistent parsing.\n",
            "  df['date_mutation'] = pd.to_datetime(df['date_mutation'])\n"
          ]
        }
      ]
    },
    {
      "cell_type": "code",
      "source": [
        "#suppression des valeur_fonciere null\n",
        "df = df[df['valeur_fonciere'] > 0]\n",
        "df['surface_carrez_du_1er_lot'].fillna(0, inplace=True)\n",
        "df['surface_carrez_du_2eme_lot'].fillna(0, inplace=True)\n",
        "df['surface_carrez_du_3eme_lot'].fillna(0, inplace=True)\n",
        "df['surface_carrez_du_4eme_lot'].fillna(0, inplace=True)\n",
        "df['surface_carrez_du_5eme_lot'].fillna(0, inplace=True)\n"
      ],
      "metadata": {
        "colab": {
          "base_uri": "https://localhost:8080/"
        },
        "id": "8m3LHZDgk6iN",
        "outputId": "b91cca38-25ef-4e7b-f4c9-5947cb3f7d49"
      },
      "execution_count": null,
      "outputs": [
        {
          "output_type": "stream",
          "name": "stderr",
          "text": [
            "<ipython-input-10-646e0f7d06bf>:3: SettingWithCopyWarning: \n",
            "A value is trying to be set on a copy of a slice from a DataFrame\n",
            "\n",
            "See the caveats in the documentation: https://pandas.pydata.org/pandas-docs/stable/user_guide/indexing.html#returning-a-view-versus-a-copy\n",
            "  df['surface_carrez_du_1er_lot'].fillna(0, inplace=True)\n",
            "<ipython-input-10-646e0f7d06bf>:4: SettingWithCopyWarning: \n",
            "A value is trying to be set on a copy of a slice from a DataFrame\n",
            "\n",
            "See the caveats in the documentation: https://pandas.pydata.org/pandas-docs/stable/user_guide/indexing.html#returning-a-view-versus-a-copy\n",
            "  df['surface_carrez_du_2eme_lot'].fillna(0, inplace=True)\n",
            "<ipython-input-10-646e0f7d06bf>:5: SettingWithCopyWarning: \n",
            "A value is trying to be set on a copy of a slice from a DataFrame\n",
            "\n",
            "See the caveats in the documentation: https://pandas.pydata.org/pandas-docs/stable/user_guide/indexing.html#returning-a-view-versus-a-copy\n",
            "  df['surface_carrez_du_3eme_lot'].fillna(0, inplace=True)\n"
          ]
        }
      ]
    },
    {
      "cell_type": "code",
      "source": [
        "df.info()"
      ],
      "metadata": {
        "colab": {
          "base_uri": "https://localhost:8080/"
        },
        "id": "4yQfcR25N6Jo",
        "outputId": "0b63ebde-48c9-49dc-93f4-3fd0cb759e8d"
      },
      "execution_count": null,
      "outputs": [
        {
          "output_type": "stream",
          "name": "stdout",
          "text": [
            "<class 'pandas.core.frame.DataFrame'>\n",
            "Int64Index: 3509650 entries, 0 to 3803884\n",
            "Data columns (total 29 columns):\n",
            " #   Column                      Dtype         \n",
            "---  ------                      -----         \n",
            " 0   no_disposition              int64         \n",
            " 1   date_mutation               datetime64[ns]\n",
            " 2   nature_mutation             category      \n",
            " 3   valeur_fonciere             float64       \n",
            " 4   no_voie                     Int32         \n",
            " 5   b/t/q                       category      \n",
            " 6   type_de_voie                object        \n",
            " 7   code_voie                   object        \n",
            " 8   voie                        object        \n",
            " 9   code_postal                 Int32         \n",
            " 10  commune                     object        \n",
            " 11  code_departement            object        \n",
            " 12  code_commune                int32         \n",
            " 13  section                     object        \n",
            " 14  no_plan                     int32         \n",
            " 15  1er_lot                     category      \n",
            " 16  surface_carrez_du_1er_lot   float64       \n",
            " 17  2eme_lot                    category      \n",
            " 18  surface_carrez_du_2eme_lot  float64       \n",
            " 19  surface_carrez_du_3eme_lot  float64       \n",
            " 20  surface_carrez_du_4eme_lot  float64       \n",
            " 21  surface_carrez_du_5eme_lot  float64       \n",
            " 22  nombre_de_lots              int32         \n",
            " 23  code_type_local             Int32         \n",
            " 24  type_local                  category      \n",
            " 25  surface_reelle_bati         float64       \n",
            " 26  nombre_pieces_principales   Int32         \n",
            " 27  nature_culture              category      \n",
            " 28  surface_terrain             float64       \n",
            "dtypes: Int32(4), category(6), datetime64[ns](1), float64(8), int32(3), int64(1), object(6)\n",
            "memory usage: 589.6+ MB\n"
          ]
        }
      ]
    },
    {
      "cell_type": "code",
      "source": [
        "df.head()"
      ],
      "metadata": {
        "colab": {
          "base_uri": "https://localhost:8080/"
        },
        "id": "HYogvz3wkvbU",
        "outputId": "6543456e-8e48-411b-b244-afc8895fa98a"
      },
      "execution_count": null,
      "outputs": [
        {
          "output_type": "execute_result",
          "data": {
            "text/plain": [
              "   no_disposition date_mutation nature_mutation  valeur_fonciere  no_voie  \\\n",
              "0               1    2022-03-01           Vente          55000.0       13   \n",
              "1               1    2022-03-01           Vente         143000.0     <NA>   \n",
              "2               1    2022-03-01           Vente         143000.0     <NA>   \n",
              "3               1    2022-03-01           Vente         143000.0       98   \n",
              "4               1    2022-04-01           Vente            300.0     <NA>   \n",
              "\n",
              "  b/t/q type_de_voie code_voie           voie  code_postal  ...  \\\n",
              "0   NaN          RUE      2280  DE LA LIBERTE         1000  ...   \n",
              "1   NaN          NaN      B010   CHAMP COCHET         1480  ...   \n",
              "2   NaN          NaN      B010   CHAMP COCHET         1480  ...   \n",
              "3   NaN          RTE      0055   DE LA DOMBES         1480  ...   \n",
              "4   NaN          NaN      B031    AUX PIERRES         1480  ...   \n",
              "\n",
              "  surface_carrez_du_3eme_lot surface_carrez_du_4eme_lot  \\\n",
              "0                        0.0                        0.0   \n",
              "1                        0.0                        0.0   \n",
              "2                        0.0                        0.0   \n",
              "3                        0.0                        0.0   \n",
              "4                        0.0                        0.0   \n",
              "\n",
              "   surface_carrez_du_5eme_lot nombre_de_lots  code_type_local   type_local  \\\n",
              "0                         0.0              1                2  Appartement   \n",
              "1                         0.0              0             <NA>          NaN   \n",
              "2                         0.0              0             <NA>          NaN   \n",
              "3                         0.0              1                2  Appartement   \n",
              "4                         0.0              0             <NA>          NaN   \n",
              "\n",
              "   surface_reelle_bati nombre_pieces_principales  nature_culture  \\\n",
              "0                 24.0                         1             NaN   \n",
              "1                  NaN                      <NA>               S   \n",
              "2                  NaN                      <NA>               S   \n",
              "3                140.0                         3             NaN   \n",
              "4                  NaN                      <NA>               T   \n",
              "\n",
              "   surface_terrain  \n",
              "0              NaN  \n",
              "1             84.0  \n",
              "2             88.0  \n",
              "3              NaN  \n",
              "4            510.0  \n",
              "\n",
              "[5 rows x 29 columns]"
            ],
            "text/html": [
              "\n",
              "  <div id=\"df-7e7f7a7a-654e-410a-8a21-f1025f86c285\">\n",
              "    <div class=\"colab-df-container\">\n",
              "      <div>\n",
              "<style scoped>\n",
              "    .dataframe tbody tr th:only-of-type {\n",
              "        vertical-align: middle;\n",
              "    }\n",
              "\n",
              "    .dataframe tbody tr th {\n",
              "        vertical-align: top;\n",
              "    }\n",
              "\n",
              "    .dataframe thead th {\n",
              "        text-align: right;\n",
              "    }\n",
              "</style>\n",
              "<table border=\"1\" class=\"dataframe\">\n",
              "  <thead>\n",
              "    <tr style=\"text-align: right;\">\n",
              "      <th></th>\n",
              "      <th>no_disposition</th>\n",
              "      <th>date_mutation</th>\n",
              "      <th>nature_mutation</th>\n",
              "      <th>valeur_fonciere</th>\n",
              "      <th>no_voie</th>\n",
              "      <th>b/t/q</th>\n",
              "      <th>type_de_voie</th>\n",
              "      <th>code_voie</th>\n",
              "      <th>voie</th>\n",
              "      <th>code_postal</th>\n",
              "      <th>...</th>\n",
              "      <th>surface_carrez_du_3eme_lot</th>\n",
              "      <th>surface_carrez_du_4eme_lot</th>\n",
              "      <th>surface_carrez_du_5eme_lot</th>\n",
              "      <th>nombre_de_lots</th>\n",
              "      <th>code_type_local</th>\n",
              "      <th>type_local</th>\n",
              "      <th>surface_reelle_bati</th>\n",
              "      <th>nombre_pieces_principales</th>\n",
              "      <th>nature_culture</th>\n",
              "      <th>surface_terrain</th>\n",
              "    </tr>\n",
              "  </thead>\n",
              "  <tbody>\n",
              "    <tr>\n",
              "      <th>0</th>\n",
              "      <td>1</td>\n",
              "      <td>2022-03-01</td>\n",
              "      <td>Vente</td>\n",
              "      <td>55000.0</td>\n",
              "      <td>13</td>\n",
              "      <td>NaN</td>\n",
              "      <td>RUE</td>\n",
              "      <td>2280</td>\n",
              "      <td>DE LA LIBERTE</td>\n",
              "      <td>1000</td>\n",
              "      <td>...</td>\n",
              "      <td>0.0</td>\n",
              "      <td>0.0</td>\n",
              "      <td>0.0</td>\n",
              "      <td>1</td>\n",
              "      <td>2</td>\n",
              "      <td>Appartement</td>\n",
              "      <td>24.0</td>\n",
              "      <td>1</td>\n",
              "      <td>NaN</td>\n",
              "      <td>NaN</td>\n",
              "    </tr>\n",
              "    <tr>\n",
              "      <th>1</th>\n",
              "      <td>1</td>\n",
              "      <td>2022-03-01</td>\n",
              "      <td>Vente</td>\n",
              "      <td>143000.0</td>\n",
              "      <td>&lt;NA&gt;</td>\n",
              "      <td>NaN</td>\n",
              "      <td>NaN</td>\n",
              "      <td>B010</td>\n",
              "      <td>CHAMP COCHET</td>\n",
              "      <td>1480</td>\n",
              "      <td>...</td>\n",
              "      <td>0.0</td>\n",
              "      <td>0.0</td>\n",
              "      <td>0.0</td>\n",
              "      <td>0</td>\n",
              "      <td>&lt;NA&gt;</td>\n",
              "      <td>NaN</td>\n",
              "      <td>NaN</td>\n",
              "      <td>&lt;NA&gt;</td>\n",
              "      <td>S</td>\n",
              "      <td>84.0</td>\n",
              "    </tr>\n",
              "    <tr>\n",
              "      <th>2</th>\n",
              "      <td>1</td>\n",
              "      <td>2022-03-01</td>\n",
              "      <td>Vente</td>\n",
              "      <td>143000.0</td>\n",
              "      <td>&lt;NA&gt;</td>\n",
              "      <td>NaN</td>\n",
              "      <td>NaN</td>\n",
              "      <td>B010</td>\n",
              "      <td>CHAMP COCHET</td>\n",
              "      <td>1480</td>\n",
              "      <td>...</td>\n",
              "      <td>0.0</td>\n",
              "      <td>0.0</td>\n",
              "      <td>0.0</td>\n",
              "      <td>0</td>\n",
              "      <td>&lt;NA&gt;</td>\n",
              "      <td>NaN</td>\n",
              "      <td>NaN</td>\n",
              "      <td>&lt;NA&gt;</td>\n",
              "      <td>S</td>\n",
              "      <td>88.0</td>\n",
              "    </tr>\n",
              "    <tr>\n",
              "      <th>3</th>\n",
              "      <td>1</td>\n",
              "      <td>2022-03-01</td>\n",
              "      <td>Vente</td>\n",
              "      <td>143000.0</td>\n",
              "      <td>98</td>\n",
              "      <td>NaN</td>\n",
              "      <td>RTE</td>\n",
              "      <td>0055</td>\n",
              "      <td>DE LA DOMBES</td>\n",
              "      <td>1480</td>\n",
              "      <td>...</td>\n",
              "      <td>0.0</td>\n",
              "      <td>0.0</td>\n",
              "      <td>0.0</td>\n",
              "      <td>1</td>\n",
              "      <td>2</td>\n",
              "      <td>Appartement</td>\n",
              "      <td>140.0</td>\n",
              "      <td>3</td>\n",
              "      <td>NaN</td>\n",
              "      <td>NaN</td>\n",
              "    </tr>\n",
              "    <tr>\n",
              "      <th>4</th>\n",
              "      <td>1</td>\n",
              "      <td>2022-04-01</td>\n",
              "      <td>Vente</td>\n",
              "      <td>300.0</td>\n",
              "      <td>&lt;NA&gt;</td>\n",
              "      <td>NaN</td>\n",
              "      <td>NaN</td>\n",
              "      <td>B031</td>\n",
              "      <td>AUX PIERRES</td>\n",
              "      <td>1480</td>\n",
              "      <td>...</td>\n",
              "      <td>0.0</td>\n",
              "      <td>0.0</td>\n",
              "      <td>0.0</td>\n",
              "      <td>0</td>\n",
              "      <td>&lt;NA&gt;</td>\n",
              "      <td>NaN</td>\n",
              "      <td>NaN</td>\n",
              "      <td>&lt;NA&gt;</td>\n",
              "      <td>T</td>\n",
              "      <td>510.0</td>\n",
              "    </tr>\n",
              "  </tbody>\n",
              "</table>\n",
              "<p>5 rows × 29 columns</p>\n",
              "</div>\n",
              "      <button class=\"colab-df-convert\" onclick=\"convertToInteractive('df-7e7f7a7a-654e-410a-8a21-f1025f86c285')\"\n",
              "              title=\"Convert this dataframe to an interactive table.\"\n",
              "              style=\"display:none;\">\n",
              "        \n",
              "  <svg xmlns=\"http://www.w3.org/2000/svg\" height=\"24px\"viewBox=\"0 0 24 24\"\n",
              "       width=\"24px\">\n",
              "    <path d=\"M0 0h24v24H0V0z\" fill=\"none\"/>\n",
              "    <path d=\"M18.56 5.44l.94 2.06.94-2.06 2.06-.94-2.06-.94-.94-2.06-.94 2.06-2.06.94zm-11 1L8.5 8.5l.94-2.06 2.06-.94-2.06-.94L8.5 2.5l-.94 2.06-2.06.94zm10 10l.94 2.06.94-2.06 2.06-.94-2.06-.94-.94-2.06-.94 2.06-2.06.94z\"/><path d=\"M17.41 7.96l-1.37-1.37c-.4-.4-.92-.59-1.43-.59-.52 0-1.04.2-1.43.59L10.3 9.45l-7.72 7.72c-.78.78-.78 2.05 0 2.83L4 21.41c.39.39.9.59 1.41.59.51 0 1.02-.2 1.41-.59l7.78-7.78 2.81-2.81c.8-.78.8-2.07 0-2.86zM5.41 20L4 18.59l7.72-7.72 1.47 1.35L5.41 20z\"/>\n",
              "  </svg>\n",
              "      </button>\n",
              "      \n",
              "  <style>\n",
              "    .colab-df-container {\n",
              "      display:flex;\n",
              "      flex-wrap:wrap;\n",
              "      gap: 12px;\n",
              "    }\n",
              "\n",
              "    .colab-df-convert {\n",
              "      background-color: #E8F0FE;\n",
              "      border: none;\n",
              "      border-radius: 50%;\n",
              "      cursor: pointer;\n",
              "      display: none;\n",
              "      fill: #1967D2;\n",
              "      height: 32px;\n",
              "      padding: 0 0 0 0;\n",
              "      width: 32px;\n",
              "    }\n",
              "\n",
              "    .colab-df-convert:hover {\n",
              "      background-color: #E2EBFA;\n",
              "      box-shadow: 0px 1px 2px rgba(60, 64, 67, 0.3), 0px 1px 3px 1px rgba(60, 64, 67, 0.15);\n",
              "      fill: #174EA6;\n",
              "    }\n",
              "\n",
              "    [theme=dark] .colab-df-convert {\n",
              "      background-color: #3B4455;\n",
              "      fill: #D2E3FC;\n",
              "    }\n",
              "\n",
              "    [theme=dark] .colab-df-convert:hover {\n",
              "      background-color: #434B5C;\n",
              "      box-shadow: 0px 1px 3px 1px rgba(0, 0, 0, 0.15);\n",
              "      filter: drop-shadow(0px 1px 2px rgba(0, 0, 0, 0.3));\n",
              "      fill: #FFFFFF;\n",
              "    }\n",
              "  </style>\n",
              "\n",
              "      <script>\n",
              "        const buttonEl =\n",
              "          document.querySelector('#df-7e7f7a7a-654e-410a-8a21-f1025f86c285 button.colab-df-convert');\n",
              "        buttonEl.style.display =\n",
              "          google.colab.kernel.accessAllowed ? 'block' : 'none';\n",
              "\n",
              "        async function convertToInteractive(key) {\n",
              "          const element = document.querySelector('#df-7e7f7a7a-654e-410a-8a21-f1025f86c285');\n",
              "          const dataTable =\n",
              "            await google.colab.kernel.invokeFunction('convertToInteractive',\n",
              "                                                     [key], {});\n",
              "          if (!dataTable) return;\n",
              "\n",
              "          const docLinkHtml = 'Like what you see? Visit the ' +\n",
              "            '<a target=\"_blank\" href=https://colab.research.google.com/notebooks/data_table.ipynb>data table notebook</a>'\n",
              "            + ' to learn more about interactive tables.';\n",
              "          element.innerHTML = '';\n",
              "          dataTable['output_type'] = 'display_data';\n",
              "          await google.colab.output.renderOutput(dataTable, element);\n",
              "          const docLink = document.createElement('div');\n",
              "          docLink.innerHTML = docLinkHtml;\n",
              "          element.appendChild(docLink);\n",
              "        }\n",
              "      </script>\n",
              "    </div>\n",
              "  </div>\n",
              "  "
            ]
          },
          "metadata": {},
          "execution_count": 12
        }
      ]
    },
    {
      "cell_type": "markdown",
      "source": [
        "##III ] Interprétation\n"
      ],
      "metadata": {
        "id": "N2Hy3WURrc2w"
      }
    },
    {
      "cell_type": "markdown",
      "source": [
        "1. Quelle est la part de maison, d'appartement, ect.. dans le dataset?"
      ],
      "metadata": {
        "id": "dXoZ4ZoTG6cp"
      }
    },
    {
      "cell_type": "code",
      "source": [
        "# Quelle est la part de maison, d'appartement, ect.. dans le dataset?\n",
        "types = df['type_local'].value_counts(dropna = False, normalize = True).head()\n",
        "plt.figure(figsize=(8,8))\n",
        "plt.pie(types.values, labels=types.index, colors = colors2, startangle=65)\n",
        "plt.title(label= 'Parts des type de biens')\n",
        "plt.legend(loc = 4)"
      ],
      "metadata": {
        "id": "8Z48dNo2kqOS"
      },
      "execution_count": null,
      "outputs": []
    },
    {
      "cell_type": "markdown",
      "source": [
        "2. Quelle est la valeur fonciére moyenne par departement en 2022 (bar plot) ?"
      ],
      "metadata": {
        "id": "-e7iOnwNHKmQ"
      }
    },
    {
      "cell_type": "code",
      "source": [
        "#Quelle est la valeur fonciére moyenne par departement en utilisant un bar plot ?\n",
        "grouped_vf_dept = df.groupby('code_departement')['valeur_fonciere'].mean().reset_index()\n",
        "grouped_vf_dept['code_departement'] = grouped_vf_dept['code_departement'].astype('string')\n",
        "fig = px.bar(grouped_vf_dept, y='valeur_fonciere',\n",
        "             x='code_departement',\n",
        "             text_auto='.2s')\n",
        "fig.update_layout(title=\"Valeur fonciére moyenne par departement\", \n",
        "                  yaxis_title='Valeur foncière moyenne (€)', \n",
        "                  xaxis_title='Département')\n",
        "fig.show()"
      ],
      "metadata": {
        "id": "cD-5Uq-QBI0t"
      },
      "execution_count": null,
      "outputs": []
    },
    {
      "cell_type": "markdown",
      "source": [
        "3. Quelle est la valeur fonciére moyenne par departement en 2022 (geojson et choropleth) ?"
      ],
      "metadata": {
        "id": "5RxEIcSnHNbB"
      }
    },
    {
      "cell_type": "code",
      "source": [
        "#Quelle est la valeur fonciére moyenne par departement en utilisant geojson et choropleth ?\n",
        "geojson_url = \"https://france-geojson.gregoiredavid.fr/repo/departements.geojson\"\n",
        "geojson_data = requests.get(geojson_url).json()\n",
        "\n",
        "fig = px.choropleth(grouped_vf_dept, \n",
        "                    geojson=geojson_data, \n",
        "                    locations='code_departement', \n",
        "                    color='valeur_fonciere',\n",
        "                    color_continuous_scale='pinkyl',\n",
        "                    featureidkey='properties.code',\n",
        "                    projection=\"mercator\",\n",
        "                    title='Valeur fonciere moyenne par departments')\n",
        "fig.update_geos(fitbounds=\"locations\", visible=False)\n",
        "fig.update_layout(height=600, width=800)\n",
        "fig.show()"
      ],
      "metadata": {
        "id": "sWWhtGte36SB"
      },
      "execution_count": null,
      "outputs": []
    },
    {
      "cell_type": "markdown",
      "source": [
        "4. Quelle est la valeur fonciére moyenne par pays, par deparement et part commune treemap"
      ],
      "metadata": {
        "id": "VKsCz461HRyb"
      }
    },
    {
      "cell_type": "code",
      "source": [
        "# Quel est la valeur fonciére moyenne par pays, par deparement et part commune treemap\n",
        "df_avg = df.groupby(['code_departement', 'code_commune'])['valeur_fonciere'].mean().reset_index()\n",
        "df_avg['code_pay'] = 'France'\n",
        "df_avg.head()\n",
        "\n",
        "fig = px.treemap(df_avg,\n",
        "                 path=['code_pay','code_departement', 'code_commune'],\n",
        "                 values='valeur_fonciere',\n",
        "                 color='valeur_fonciere',\n",
        "                 hover_data=['code_pay','code_departement', 'code_commune'])\n",
        "fig.update_traces(root_color=\"lightgrey\")\n",
        "fig.update_layout(title='Carte proportionelle de la valeur fonciere moyenne')\n",
        "fig.show()"
      ],
      "metadata": {
        "id": "bDBZ40nnust2"
      },
      "execution_count": null,
      "outputs": []
    },
    {
      "cell_type": "markdown",
      "source": [
        "On s'aperçois que la valeur fonciére est fortement correler avec la position geographique."
      ],
      "metadata": {
        "id": "K7CAMkaPHU9C"
      }
    },
    {
      "cell_type": "markdown",
      "source": [
        "5. La surface reel batie moyenne par départements?"
      ],
      "metadata": {
        "id": "SQCYW5yFbpFu"
      }
    },
    {
      "cell_type": "code",
      "source": [
        "grouped_srb_dept = df[df['surface_reelle_bati'] > 0]\n",
        "grouped_srb_dept = grouped_srb_dept.groupby('code_departement')['surface_reelle_bati'].mean().reset_index()\n",
        "grouped_srb_dept['code_departement'] = grouped_srb_dept['code_departement'].astype('string')\n",
        "fig = px.bar(grouped_srb_dept, y='surface_reelle_bati',\n",
        "             x='code_departement',\n",
        "             text_auto='.2s')\n",
        "fig.update_layout(title=\"Surface réel batie moyenne par departement\", \n",
        "                  yaxis_title='Valeur foncière moyenne (€)', \n",
        "                  xaxis_title='Département')\n",
        "fig.show()"
      ],
      "metadata": {
        "id": "hF_rCqDgb2aV"
      },
      "execution_count": null,
      "outputs": []
    },
    {
      "cell_type": "markdown",
      "source": [
        "6. Quels sont les départements les plus chers pour l'immobilier en 2022 ?"
      ],
      "metadata": {
        "id": "0yiGxHmvKkCQ"
      }
    },
    {
      "cell_type": "code",
      "source": [
        "grouped_vf_dept_top10 = grouped_vf_dept.sort_values('valeur_fonciere', ascending=False).head(10)\n",
        "\n",
        "fig = px.bar(grouped_vf_dept_top10, x='valeur_fonciere', y='code_departement', orientation='h')\n",
        "\n",
        "fig.update_layout(title='Les départements les plus chers pour l\\'immobilier en 2021', \n",
        "                  xaxis_title='Valeur foncière moyenne (€)', \n",
        "                  yaxis_title='Département')\n",
        "fig.show()"
      ],
      "metadata": {
        "id": "PbXjaTt-PMkA"
      },
      "execution_count": null,
      "outputs": []
    },
    {
      "cell_type": "markdown",
      "source": [
        "7. Quel est la valur fonciére moyenne à Paris en 2022 ?"
      ],
      "metadata": {
        "id": "nNxMevDqJh-C"
      }
    },
    {
      "cell_type": "code",
      "source": [
        "#Quelle est la valeur fonciére moyenne par commune dans le 75 en utilisant geojson et choropleth ?\n",
        "\n",
        "geojson_url = \"https://france-geojson.gregoiredavid.fr/repo/departements/75-paris/communes-75-paris.geojson\"\n",
        "geojson_data = requests.get(geojson_url).json()\n",
        "\n",
        "vf_com_paris = df[(df['code_departement']==75) & df['valeur_fonciere'] > 0]\n",
        "vf_com_paris = vf_com_paris.groupby('code_commune')['valeur_fonciere'].mean().reset_index()\n",
        "vf_com_paris['code_commune'] = '75'+vf_com_paris['code_commune'].astype(str)\n",
        "\n",
        "fig = px.choropleth(vf_com_paris, \n",
        "                    geojson=geojson_data, \n",
        "                    locations='code_commune', \n",
        "                    color='valeur_fonciere',\n",
        "                    color_continuous_scale='Reds',\n",
        "                    featureidkey='properties.code',\n",
        "                    projection=\"mercator\",\n",
        "                    title=\"Valeur fonciére moyenne en €\")\n",
        "fig.update_geos(fitbounds=\"locations\", visible=False)\n",
        "fig.update_layout(height=600,\n",
        "                  width=800)\n",
        "fig.show()"
      ],
      "metadata": {
        "id": "u3THBri4kgyX"
      },
      "execution_count": null,
      "outputs": []
    },
    {
      "cell_type": "markdown",
      "source": [
        "8. Quel est le prix moyen du mètre carré pour les appartements à Paris en 2022 ?"
      ],
      "metadata": {
        "id": "BaHy08V-Jo3Q"
      }
    },
    {
      "cell_type": "code",
      "source": [
        "#Quelle est le prix moyen d'un metre carré dans les commune du 75 en utilisant geojson et choropleth ?\n",
        "geojson_url = \"https://france-geojson.gregoiredavid.fr/repo/departements/75-paris/communes-75-paris.geojson\"\n",
        "geojson_data = requests.get(geojson_url).json()\n",
        "\n",
        "vf_com_paris = df[(df['code_departement'] == 75) & (df['nombre_de_lots']<6) & ((df['surface_carrez_du_1er_lot'] + df['surface_carrez_du_2eme_lot'] + df['surface_carrez_du_3eme_lot'] + df['surface_carrez_du_4eme_lot'] + df['surface_carrez_du_5eme_lot']) > 0)]\n",
        "vf_com_paris['surface_totale'] = vf_com_paris['surface_carrez_du_1er_lot'] + vf_com_paris['surface_carrez_du_2eme_lot'] + vf_com_paris['surface_carrez_du_3eme_lot'] + vf_com_paris['surface_carrez_du_4eme_lot'] + vf_com_paris['surface_carrez_du_5eme_lot']\n",
        "vf_com_paris['prix_m2'] = vf_com_paris['valeur_fonciere'] / vf_com_paris['surface_totale']\n",
        "vf_com_paris = vf_com_paris.groupby('code_commune')['prix_m2'].mean().reset_index()\n",
        "vf_com_paris['code_commune'] = '75'+vf_com_paris['code_commune'].astype(str)\n",
        "\n",
        "fig = px.choropleth(vf_com_paris, \n",
        "                    geojson=geojson_data, \n",
        "                    locations='code_commune', \n",
        "                    color='prix_m2',\n",
        "                    color_continuous_scale='Reds',\n",
        "                    featureidkey='properties.code',\n",
        "                    projection=\"mercator\",\n",
        "                    title=\"Prix moyen d'un metre carré en €\")\n",
        "fig.update_geos(fitbounds=\"locations\", visible=False)\n",
        "fig.update_layout(height=600,\n",
        "                  width=800)\n",
        "fig.show()"
      ],
      "metadata": {
        "colab": {
          "base_uri": "https://localhost:8080/",
          "height": 915
        },
        "outputId": "ab17477b-58b3-47ff-cb08-667ac566bdda",
        "id": "NFakg4zsOGs2"
      },
      "execution_count": null,
      "outputs": [
        {
          "output_type": "stream",
          "name": "stderr",
          "text": [
            "<ipython-input-14-ced1dcf09791>:6: SettingWithCopyWarning:\n",
            "\n",
            "\n",
            "A value is trying to be set on a copy of a slice from a DataFrame.\n",
            "Try using .loc[row_indexer,col_indexer] = value instead\n",
            "\n",
            "See the caveats in the documentation: https://pandas.pydata.org/pandas-docs/stable/user_guide/indexing.html#returning-a-view-versus-a-copy\n",
            "\n",
            "<ipython-input-14-ced1dcf09791>:7: SettingWithCopyWarning:\n",
            "\n",
            "\n",
            "A value is trying to be set on a copy of a slice from a DataFrame.\n",
            "Try using .loc[row_indexer,col_indexer] = value instead\n",
            "\n",
            "See the caveats in the documentation: https://pandas.pydata.org/pandas-docs/stable/user_guide/indexing.html#returning-a-view-versus-a-copy\n",
            "\n"
          ]
        },
        {
          "output_type": "display_data",
          "data": {
            "text/html": [
              "<html>\n",
              "<head><meta charset=\"utf-8\" /></head>\n",
              "<body>\n",
              "    <div>            <script src=\"https://cdnjs.cloudflare.com/ajax/libs/mathjax/2.7.5/MathJax.js?config=TeX-AMS-MML_SVG\"></script><script type=\"text/javascript\">if (window.MathJax && window.MathJax.Hub && window.MathJax.Hub.Config) {window.MathJax.Hub.Config({SVG: {font: \"STIX-Web\"}});}</script>                <script type=\"text/javascript\">window.PlotlyConfig = {MathJaxConfig: 'local'};</script>\n",
              "        <script src=\"https://cdn.plot.ly/plotly-2.18.2.min.js\"></script>                <div id=\"0e6c0dc1-ab04-401a-b957-d4c8954e15c6\" class=\"plotly-graph-div\" style=\"height:600px; width:800px;\"></div>            <script type=\"text/javascript\">                                    window.PLOTLYENV=window.PLOTLYENV || {};                                    if (document.getElementById(\"0e6c0dc1-ab04-401a-b957-d4c8954e15c6\")) {                    Plotly.newPlot(                        \"0e6c0dc1-ab04-401a-b957-d4c8954e15c6\",                        [{\"coloraxis\":\"coloraxis\",\"featureidkey\":\"properties.code\",\"geo\":\"geo\",\"geojson\":{\"type\":\"FeatureCollection\",\"features\":[{\"type\":\"Feature\",\"geometry\":{\"type\":\"Polygon\",\"coordinates\":[[[2.3646776664012,48.884291351874],[2.3495508401232,48.883620167912],[2.3379555061118,48.882249883375],[2.3271206970663,48.883485416617],[2.3260974369951,48.889111262565],[2.3299805220467,48.901163282127],[2.3518739447639,48.901522076927],[2.365846786,48.901609465126],[2.3702905140491,48.901653595285],[2.3698082422377,48.893376450644],[2.3646776664012,48.884291351874]]]},\"properties\":{\"code\":\"75118\",\"nom\":\"Paris 18e  Arrondissement\"}},{\"type\":\"Feature\",\"geometry\":{\"type\":\"Polygon\",\"coordinates\":[[[2.225670292257,48.859404562396],[2.2317363597469,48.86906858161],[2.2457037884056,48.876459232476],[2.2548171406686,48.874080881369],[2.2584671711142,48.880387263086],[2.2799493325675,48.878573123982],[2.2951453922338,48.873861979677],[2.3015562721716,48.863475234966],[2.2897782765961,48.858123113769],[2.2724846953815,48.843681568601],[2.2627915245265,48.833923373524],[2.2551442384175,48.834809549369],[2.2506124417162,48.845554851211],[2.2242191058804,48.853516917557],[2.225670292257,48.859404562396]]]},\"properties\":{\"code\":\"75116\",\"nom\":\"Paris 16e  Arrondissement\"}},{\"type\":\"Feature\",\"geometry\":{\"type\":\"Polygon\",\"coordinates\":[[[2.2844595717547,48.885639278202],[2.3037743623516,48.894153778949],[2.3198871747441,48.90045978209],[2.3299805220467,48.901163282127],[2.3260974369951,48.889111262565],[2.3271206970663,48.883485416617],[2.2981403262665,48.87804262556],[2.2951453922338,48.873861979677],[2.2799493325675,48.878573123982],[2.2844595717547,48.885639278202]]]},\"properties\":{\"code\":\"75117\",\"nom\":\"Paris 17e  Arrondissement\"}},{\"type\":\"Feature\",\"geometry\":{\"type\":\"Polygon\",\"coordinates\":[[[2.2897782765961,48.858123113769],[2.3021915203793,48.850344748998],[2.3166281602877,48.846752387477],[2.3246635446251,48.843518038723],[2.3013154184885,48.825125760842],[2.2893937776751,48.828352646104],[2.2790519306533,48.832489952145],[2.2727931901868,48.827920084226],[2.2627915245265,48.833923373524],[2.2724846953815,48.843681568601],[2.2897782765961,48.858123113769]]]},\"properties\":{\"code\":\"75115\",\"nom\":\"Paris 15e  Arrondissement\"}},{\"type\":\"Feature\",\"geometry\":{\"type\":\"Polygon\",\"coordinates\":[[[2.3257616254697,48.869546133476],[2.3278733621861,48.869861088958],[2.3508413205563,48.863344411573],[2.3500912644194,48.861951749823],[2.3445592260856,48.85398930556],[2.3328469000671,48.859300907461],[2.3207773515807,48.863075035941],[2.3257616254697,48.869546133476]]]},\"properties\":{\"code\":\"75101\",\"nom\":\"Paris 1er Arrondissement\"}},{\"type\":\"Feature\",\"geometry\":{\"type\":\"Polygon\",\"coordinates\":[[[2.3445592260856,48.85398930556],[2.3500912644194,48.861951749823],[2.3684085721728,48.855737300049],[2.3690196371168,48.853221440745],[2.3643180356191,48.846167191329],[2.3445592260856,48.85398930556]]]},\"properties\":{\"code\":\"75104\",\"nom\":\"Paris 4e  Arrondissement\"}},{\"type\":\"Feature\",\"geometry\":{\"type\":\"Polygon\",\"coordinates\":[[[2.3271206970663,48.883485416617],[2.3257616254697,48.869546133476],[2.3207773515807,48.863075035941],[2.3015562721716,48.863475234966],[2.2951453922338,48.873861979677],[2.2981403262665,48.87804262556],[2.3271206970663,48.883485416617]]]},\"properties\":{\"code\":\"75108\",\"nom\":\"Paris 8e  Arrondissement\"}},{\"type\":\"Feature\",\"geometry\":{\"type\":\"Polygon\",\"coordinates\":[[[2.3770153520998,48.87192112928],[2.3943004420294,48.856491711482],[2.3991184448726,48.848094484736],[2.3690196371168,48.853221440745],[2.3684085721728,48.855737300049],[2.3638513390126,48.867431638281],[2.3770153520998,48.87192112928]]]},\"properties\":{\"code\":\"75111\",\"nom\":\"Paris 11e  Arrondissement\"}},{\"type\":\"Feature\",\"geometry\":{\"type\":\"Polygon\",\"coordinates\":[[[2.365950820881,48.844908659278],[2.3900720145113,48.82569232682],[2.3642042811729,48.816398323996],[2.3564647458137,48.815954893718],[2.3439025047441,48.815767001297],[2.3414937722336,48.828568124075],[2.3420384635948,48.838296917933],[2.3517180689518,48.836813651152],[2.3613870338288,48.839822776185],[2.365950820881,48.844908659278]]]},\"properties\":{\"code\":\"75113\",\"nom\":\"Paris 13e  Arrondissement\"}},{\"type\":\"Feature\",\"geometry\":{\"type\":\"Polygon\",\"coordinates\":[[[2.3445592260856,48.85398930556],[2.3643180356191,48.846167191329],[2.365950820881,48.844908659278],[2.3613870338288,48.839822776185],[2.3517180689518,48.836813651152],[2.3420384635948,48.838296917933],[2.3365927071777,48.839690537143],[2.3445592260856,48.85398930556]]]},\"properties\":{\"code\":\"75105\",\"nom\":\"Paris 5e  Arrondissement\"}},{\"type\":\"Feature\",\"geometry\":{\"type\":\"Polygon\",\"coordinates\":[[[2.3500912644194,48.861951749823],[2.3508413205563,48.863344411573],[2.3541114926597,48.869275285895],[2.3638513390126,48.867431638281],[2.3684085721728,48.855737300049],[2.3500912644194,48.861951749823]]]},\"properties\":{\"code\":\"75103\",\"nom\":\"Paris 3e  Arrondissement\"}},{\"type\":\"Feature\",\"geometry\":{\"type\":\"Polygon\",\"coordinates\":[[[2.3257616254697,48.869546133476],[2.3271206970663,48.883485416617],[2.3379555061118,48.882249883375],[2.3495508401232,48.883620167912],[2.3478317710849,48.870624420335],[2.3399298105677,48.871937310519],[2.3278733621861,48.869861088958],[2.3257616254697,48.869546133476]]]},\"properties\":{\"code\":\"75109\",\"nom\":\"Paris 9e  Arrondissement\"}},{\"type\":\"Feature\",\"geometry\":{\"type\":\"Polygon\",\"coordinates\":[[[2.3207773515807,48.863075035941],[2.3328469000671,48.859300907461],[2.3282850183008,48.851787363918],[2.3166281602877,48.846752387477],[2.3021915203793,48.850344748998],[2.2897782765961,48.858123113769],[2.3015562721716,48.863475234966],[2.3207773515807,48.863075035941]]]},\"properties\":{\"code\":\"75107\",\"nom\":\"Paris 7e  Arrondissement\"}},{\"type\":\"Feature\",\"geometry\":{\"type\":\"Polygon\",\"coordinates\":[[[2.3770153520998,48.87192112928],[2.3646776664012,48.884291351874],[2.3698082422377,48.893376450644],[2.3702905140491,48.901653595285],[2.3894416378177,48.901152013806],[2.394906293421,48.898444039523],[2.3986443942733,48.889410347347],[2.4106903466383,48.878475106516],[2.3770153520998,48.87192112928]]]},\"properties\":{\"code\":\"75119\",\"nom\":\"Paris 19e  Arrondissement\"}},{\"type\":\"Feature\",\"geometry\":{\"type\":\"Polygon\",\"coordinates\":[[[2.4132704497803,48.873116980044],[2.4153151254188,48.855173471685],[2.4163411302989,48.849233783552],[2.4159711107696,48.846622956277],[2.3991184448726,48.848094484736],[2.3943004420294,48.856491711482],[2.3770153520998,48.87192112928],[2.4106903466383,48.878475106516],[2.4132704497803,48.873116980044]]]},\"properties\":{\"code\":\"75120\",\"nom\":\"Paris 20e  Arrondissement\"}},{\"type\":\"Feature\",\"geometry\":{\"type\":\"Polygon\",\"coordinates\":[[[2.365950820881,48.844908659278],[2.3643180356191,48.846167191329],[2.3690196371168,48.853221440745],[2.3991184448726,48.848094484736],[2.4159711107696,48.846622956277],[2.4122456125626,48.834538914673],[2.4221386362435,48.835797660955],[2.4275751567613,48.841570705794],[2.4478479965512,48.844804739969],[2.4634383121686,48.842089485269],[2.4672474618601,48.839072987582],[2.465730572119,48.826226047985],[2.4612052142523,48.818355149154],[2.4384475102742,48.818232447877],[2.4199625195411,48.824080072246],[2.406031823401,48.827615470779],[2.3900720145113,48.82569232682],[2.365950820881,48.844908659278]]]},\"properties\":{\"code\":\"75112\",\"nom\":\"Paris 12e  Arrondissement\"}},{\"type\":\"Feature\",\"geometry\":{\"type\":\"Polygon\",\"coordinates\":[[[2.3166281602877,48.846752387477],[2.3282850183008,48.851787363918],[2.3328469000671,48.859300907461],[2.3445592260856,48.85398930556],[2.3365927071777,48.839690537143],[2.3246635446251,48.843518038723],[2.3166281602877,48.846752387477]]]},\"properties\":{\"code\":\"75106\",\"nom\":\"Paris 6e  Arrondissement\"}},{\"type\":\"Feature\",\"geometry\":{\"type\":\"Polygon\",\"coordinates\":[[[2.3646776664012,48.884291351874],[2.3770153520998,48.87192112928],[2.3638513390126,48.867431638281],[2.3541114926597,48.869275285895],[2.3478317710849,48.870624420335],[2.3495508401232,48.883620167912],[2.3646776664012,48.884291351874]]]},\"properties\":{\"code\":\"75110\",\"nom\":\"Paris 10e  Arrondissement\"}},{\"type\":\"Feature\",\"geometry\":{\"type\":\"Polygon\",\"coordinates\":[[[2.314145699673,48.822290535442],[2.3013154184885,48.825125760842],[2.3246635446251,48.843518038723],[2.3365927071777,48.839690537143],[2.3420384635948,48.838296917933],[2.3414937722336,48.828568124075],[2.3439025047441,48.815767001297],[2.3318980606376,48.817010929642],[2.314145699673,48.822290535442]]]},\"properties\":{\"code\":\"75114\",\"nom\":\"Paris 14e  Arrondissement\"}},{\"type\":\"Feature\",\"geometry\":{\"type\":\"Polygon\",\"coordinates\":[[[2.3508413205563,48.863344411573],[2.3278733621861,48.869861088958],[2.3399298105677,48.871937310519],[2.3478317710849,48.870624420335],[2.3541114926597,48.869275285895],[2.3508413205563,48.863344411573]]]},\"properties\":{\"code\":\"75102\",\"nom\":\"Paris 2e  Arrondissement\"}}]},\"hovertemplate\":\"code_commune=%{location}<br>prix_m2=%{z}<extra></extra>\",\"locations\":[\"75101\",\"75102\",\"75103\",\"75104\",\"75105\",\"75106\",\"75107\",\"75108\",\"75109\",\"75110\",\"75111\",\"75112\",\"75113\",\"75114\",\"75115\",\"75116\",\"75117\",\"75118\",\"75119\",\"75120\"],\"name\":\"\",\"z\":[46209.4129091105,12492.95694221434,14130.58430081796,28405.81984309262,14580.85901958862,20743.840517045126,35911.52577772627,23891.215257377513,18441.676926233493,16600.48251103316,12121.871022591096,10560.119773221557,10073.360575974408,11607.515605736902,16173.316960881171,24132.118811807904,16225.991413825666,10772.818770533413,10874.57082975649,9413.018535967993],\"type\":\"choropleth\"}],                        {\"template\":{\"data\":{\"histogram2dcontour\":[{\"type\":\"histogram2dcontour\",\"colorbar\":{\"outlinewidth\":0,\"ticks\":\"\"},\"colorscale\":[[0.0,\"#0d0887\"],[0.1111111111111111,\"#46039f\"],[0.2222222222222222,\"#7201a8\"],[0.3333333333333333,\"#9c179e\"],[0.4444444444444444,\"#bd3786\"],[0.5555555555555556,\"#d8576b\"],[0.6666666666666666,\"#ed7953\"],[0.7777777777777778,\"#fb9f3a\"],[0.8888888888888888,\"#fdca26\"],[1.0,\"#f0f921\"]]}],\"choropleth\":[{\"type\":\"choropleth\",\"colorbar\":{\"outlinewidth\":0,\"ticks\":\"\"}}],\"histogram2d\":[{\"type\":\"histogram2d\",\"colorbar\":{\"outlinewidth\":0,\"ticks\":\"\"},\"colorscale\":[[0.0,\"#0d0887\"],[0.1111111111111111,\"#46039f\"],[0.2222222222222222,\"#7201a8\"],[0.3333333333333333,\"#9c179e\"],[0.4444444444444444,\"#bd3786\"],[0.5555555555555556,\"#d8576b\"],[0.6666666666666666,\"#ed7953\"],[0.7777777777777778,\"#fb9f3a\"],[0.8888888888888888,\"#fdca26\"],[1.0,\"#f0f921\"]]}],\"heatmap\":[{\"type\":\"heatmap\",\"colorbar\":{\"outlinewidth\":0,\"ticks\":\"\"},\"colorscale\":[[0.0,\"#0d0887\"],[0.1111111111111111,\"#46039f\"],[0.2222222222222222,\"#7201a8\"],[0.3333333333333333,\"#9c179e\"],[0.4444444444444444,\"#bd3786\"],[0.5555555555555556,\"#d8576b\"],[0.6666666666666666,\"#ed7953\"],[0.7777777777777778,\"#fb9f3a\"],[0.8888888888888888,\"#fdca26\"],[1.0,\"#f0f921\"]]}],\"heatmapgl\":[{\"type\":\"heatmapgl\",\"colorbar\":{\"outlinewidth\":0,\"ticks\":\"\"},\"colorscale\":[[0.0,\"#0d0887\"],[0.1111111111111111,\"#46039f\"],[0.2222222222222222,\"#7201a8\"],[0.3333333333333333,\"#9c179e\"],[0.4444444444444444,\"#bd3786\"],[0.5555555555555556,\"#d8576b\"],[0.6666666666666666,\"#ed7953\"],[0.7777777777777778,\"#fb9f3a\"],[0.8888888888888888,\"#fdca26\"],[1.0,\"#f0f921\"]]}],\"contourcarpet\":[{\"type\":\"contourcarpet\",\"colorbar\":{\"outlinewidth\":0,\"ticks\":\"\"}}],\"contour\":[{\"type\":\"contour\",\"colorbar\":{\"outlinewidth\":0,\"ticks\":\"\"},\"colorscale\":[[0.0,\"#0d0887\"],[0.1111111111111111,\"#46039f\"],[0.2222222222222222,\"#7201a8\"],[0.3333333333333333,\"#9c179e\"],[0.4444444444444444,\"#bd3786\"],[0.5555555555555556,\"#d8576b\"],[0.6666666666666666,\"#ed7953\"],[0.7777777777777778,\"#fb9f3a\"],[0.8888888888888888,\"#fdca26\"],[1.0,\"#f0f921\"]]}],\"surface\":[{\"type\":\"surface\",\"colorbar\":{\"outlinewidth\":0,\"ticks\":\"\"},\"colorscale\":[[0.0,\"#0d0887\"],[0.1111111111111111,\"#46039f\"],[0.2222222222222222,\"#7201a8\"],[0.3333333333333333,\"#9c179e\"],[0.4444444444444444,\"#bd3786\"],[0.5555555555555556,\"#d8576b\"],[0.6666666666666666,\"#ed7953\"],[0.7777777777777778,\"#fb9f3a\"],[0.8888888888888888,\"#fdca26\"],[1.0,\"#f0f921\"]]}],\"mesh3d\":[{\"type\":\"mesh3d\",\"colorbar\":{\"outlinewidth\":0,\"ticks\":\"\"}}],\"scatter\":[{\"fillpattern\":{\"fillmode\":\"overlay\",\"size\":10,\"solidity\":0.2},\"type\":\"scatter\"}],\"parcoords\":[{\"type\":\"parcoords\",\"line\":{\"colorbar\":{\"outlinewidth\":0,\"ticks\":\"\"}}}],\"scatterpolargl\":[{\"type\":\"scatterpolargl\",\"marker\":{\"colorbar\":{\"outlinewidth\":0,\"ticks\":\"\"}}}],\"bar\":[{\"error_x\":{\"color\":\"#2a3f5f\"},\"error_y\":{\"color\":\"#2a3f5f\"},\"marker\":{\"line\":{\"color\":\"#E5ECF6\",\"width\":0.5},\"pattern\":{\"fillmode\":\"overlay\",\"size\":10,\"solidity\":0.2}},\"type\":\"bar\"}],\"scattergeo\":[{\"type\":\"scattergeo\",\"marker\":{\"colorbar\":{\"outlinewidth\":0,\"ticks\":\"\"}}}],\"scatterpolar\":[{\"type\":\"scatterpolar\",\"marker\":{\"colorbar\":{\"outlinewidth\":0,\"ticks\":\"\"}}}],\"histogram\":[{\"marker\":{\"pattern\":{\"fillmode\":\"overlay\",\"size\":10,\"solidity\":0.2}},\"type\":\"histogram\"}],\"scattergl\":[{\"type\":\"scattergl\",\"marker\":{\"colorbar\":{\"outlinewidth\":0,\"ticks\":\"\"}}}],\"scatter3d\":[{\"type\":\"scatter3d\",\"line\":{\"colorbar\":{\"outlinewidth\":0,\"ticks\":\"\"}},\"marker\":{\"colorbar\":{\"outlinewidth\":0,\"ticks\":\"\"}}}],\"scattermapbox\":[{\"type\":\"scattermapbox\",\"marker\":{\"colorbar\":{\"outlinewidth\":0,\"ticks\":\"\"}}}],\"scatterternary\":[{\"type\":\"scatterternary\",\"marker\":{\"colorbar\":{\"outlinewidth\":0,\"ticks\":\"\"}}}],\"scattercarpet\":[{\"type\":\"scattercarpet\",\"marker\":{\"colorbar\":{\"outlinewidth\":0,\"ticks\":\"\"}}}],\"carpet\":[{\"aaxis\":{\"endlinecolor\":\"#2a3f5f\",\"gridcolor\":\"white\",\"linecolor\":\"white\",\"minorgridcolor\":\"white\",\"startlinecolor\":\"#2a3f5f\"},\"baxis\":{\"endlinecolor\":\"#2a3f5f\",\"gridcolor\":\"white\",\"linecolor\":\"white\",\"minorgridcolor\":\"white\",\"startlinecolor\":\"#2a3f5f\"},\"type\":\"carpet\"}],\"table\":[{\"cells\":{\"fill\":{\"color\":\"#EBF0F8\"},\"line\":{\"color\":\"white\"}},\"header\":{\"fill\":{\"color\":\"#C8D4E3\"},\"line\":{\"color\":\"white\"}},\"type\":\"table\"}],\"barpolar\":[{\"marker\":{\"line\":{\"color\":\"#E5ECF6\",\"width\":0.5},\"pattern\":{\"fillmode\":\"overlay\",\"size\":10,\"solidity\":0.2}},\"type\":\"barpolar\"}],\"pie\":[{\"automargin\":true,\"type\":\"pie\"}]},\"layout\":{\"autotypenumbers\":\"strict\",\"colorway\":[\"#636efa\",\"#EF553B\",\"#00cc96\",\"#ab63fa\",\"#FFA15A\",\"#19d3f3\",\"#FF6692\",\"#B6E880\",\"#FF97FF\",\"#FECB52\"],\"font\":{\"color\":\"#2a3f5f\"},\"hovermode\":\"closest\",\"hoverlabel\":{\"align\":\"left\"},\"paper_bgcolor\":\"white\",\"plot_bgcolor\":\"#E5ECF6\",\"polar\":{\"bgcolor\":\"#E5ECF6\",\"angularaxis\":{\"gridcolor\":\"white\",\"linecolor\":\"white\",\"ticks\":\"\"},\"radialaxis\":{\"gridcolor\":\"white\",\"linecolor\":\"white\",\"ticks\":\"\"}},\"ternary\":{\"bgcolor\":\"#E5ECF6\",\"aaxis\":{\"gridcolor\":\"white\",\"linecolor\":\"white\",\"ticks\":\"\"},\"baxis\":{\"gridcolor\":\"white\",\"linecolor\":\"white\",\"ticks\":\"\"},\"caxis\":{\"gridcolor\":\"white\",\"linecolor\":\"white\",\"ticks\":\"\"}},\"coloraxis\":{\"colorbar\":{\"outlinewidth\":0,\"ticks\":\"\"}},\"colorscale\":{\"sequential\":[[0.0,\"#0d0887\"],[0.1111111111111111,\"#46039f\"],[0.2222222222222222,\"#7201a8\"],[0.3333333333333333,\"#9c179e\"],[0.4444444444444444,\"#bd3786\"],[0.5555555555555556,\"#d8576b\"],[0.6666666666666666,\"#ed7953\"],[0.7777777777777778,\"#fb9f3a\"],[0.8888888888888888,\"#fdca26\"],[1.0,\"#f0f921\"]],\"sequentialminus\":[[0.0,\"#0d0887\"],[0.1111111111111111,\"#46039f\"],[0.2222222222222222,\"#7201a8\"],[0.3333333333333333,\"#9c179e\"],[0.4444444444444444,\"#bd3786\"],[0.5555555555555556,\"#d8576b\"],[0.6666666666666666,\"#ed7953\"],[0.7777777777777778,\"#fb9f3a\"],[0.8888888888888888,\"#fdca26\"],[1.0,\"#f0f921\"]],\"diverging\":[[0,\"#8e0152\"],[0.1,\"#c51b7d\"],[0.2,\"#de77ae\"],[0.3,\"#f1b6da\"],[0.4,\"#fde0ef\"],[0.5,\"#f7f7f7\"],[0.6,\"#e6f5d0\"],[0.7,\"#b8e186\"],[0.8,\"#7fbc41\"],[0.9,\"#4d9221\"],[1,\"#276419\"]]},\"xaxis\":{\"gridcolor\":\"white\",\"linecolor\":\"white\",\"ticks\":\"\",\"title\":{\"standoff\":15},\"zerolinecolor\":\"white\",\"automargin\":true,\"zerolinewidth\":2},\"yaxis\":{\"gridcolor\":\"white\",\"linecolor\":\"white\",\"ticks\":\"\",\"title\":{\"standoff\":15},\"zerolinecolor\":\"white\",\"automargin\":true,\"zerolinewidth\":2},\"scene\":{\"xaxis\":{\"backgroundcolor\":\"#E5ECF6\",\"gridcolor\":\"white\",\"linecolor\":\"white\",\"showbackground\":true,\"ticks\":\"\",\"zerolinecolor\":\"white\",\"gridwidth\":2},\"yaxis\":{\"backgroundcolor\":\"#E5ECF6\",\"gridcolor\":\"white\",\"linecolor\":\"white\",\"showbackground\":true,\"ticks\":\"\",\"zerolinecolor\":\"white\",\"gridwidth\":2},\"zaxis\":{\"backgroundcolor\":\"#E5ECF6\",\"gridcolor\":\"white\",\"linecolor\":\"white\",\"showbackground\":true,\"ticks\":\"\",\"zerolinecolor\":\"white\",\"gridwidth\":2}},\"shapedefaults\":{\"line\":{\"color\":\"#2a3f5f\"}},\"annotationdefaults\":{\"arrowcolor\":\"#2a3f5f\",\"arrowhead\":0,\"arrowwidth\":1},\"geo\":{\"bgcolor\":\"white\",\"landcolor\":\"#E5ECF6\",\"subunitcolor\":\"white\",\"showland\":true,\"showlakes\":true,\"lakecolor\":\"white\"},\"title\":{\"x\":0.05},\"mapbox\":{\"style\":\"light\"}}},\"geo\":{\"domain\":{\"x\":[0.0,1.0],\"y\":[0.0,1.0]},\"projection\":{\"type\":\"mercator\"},\"center\":{},\"fitbounds\":\"locations\",\"visible\":false},\"coloraxis\":{\"colorbar\":{\"title\":{\"text\":\"prix_m2\"}},\"colorscale\":[[0.0,\"rgb(255,245,240)\"],[0.125,\"rgb(254,224,210)\"],[0.25,\"rgb(252,187,161)\"],[0.375,\"rgb(252,146,114)\"],[0.5,\"rgb(251,106,74)\"],[0.625,\"rgb(239,59,44)\"],[0.75,\"rgb(203,24,29)\"],[0.875,\"rgb(165,15,21)\"],[1.0,\"rgb(103,0,13)\"]]},\"legend\":{\"tracegroupgap\":0},\"title\":{\"text\":\"Prix moyen d'un metre carr\\u00e9 en \\u20ac\"},\"height\":600,\"width\":800},                        {\"responsive\": true}                    ).then(function(){\n",
              "                            \n",
              "var gd = document.getElementById('0e6c0dc1-ab04-401a-b957-d4c8954e15c6');\n",
              "var x = new MutationObserver(function (mutations, observer) {{\n",
              "        var display = window.getComputedStyle(gd).display;\n",
              "        if (!display || display === 'none') {{\n",
              "            console.log([gd, 'removed!']);\n",
              "            Plotly.purge(gd);\n",
              "            observer.disconnect();\n",
              "        }}\n",
              "}});\n",
              "\n",
              "// Listen for the removal of the full notebook cells\n",
              "var notebookContainer = gd.closest('#notebook-container');\n",
              "if (notebookContainer) {{\n",
              "    x.observe(notebookContainer, {childList: true});\n",
              "}}\n",
              "\n",
              "// Listen for the clearing of the current output cell\n",
              "var outputEl = gd.closest('.output');\n",
              "if (outputEl) {{\n",
              "    x.observe(outputEl, {childList: true});\n",
              "}}\n",
              "\n",
              "                        })                };                            </script>        </div>\n",
              "</body>\n",
              "</html>"
            ]
          },
          "metadata": {}
        }
      ]
    },
    {
      "cell_type": "markdown",
      "source": [
        "9. Comment la valeur foncière varie-t-elle selon le type de voie ?"
      ],
      "metadata": {
        "id": "iZQ7Yn-fMA7n"
      }
    },
    {
      "cell_type": "code",
      "source": [
        "grouped_vf_tv = df.loc[:, ['type_de_voie', 'valeur_fonciere']]\n",
        "grouped_vf_tv = grouped_vf_tv.dropna(subset=['type_de_voie'])\n",
        "fig = px.box(grouped_vf_tv, x=\"type_de_voie\", y=\"valeur_fonciere\", points=\"all\",\n",
        "             labels={'type_de_voie': 'Type de voie', 'valeur_fonciere': 'Valeur foncière'})\n",
        "\n",
        "fig.update_layout(title_text='Distribution de la valeur foncière selon le type de voie')\n",
        "fig.show()"
      ],
      "metadata": {
        "id": "iyvhNabjPb1i"
      },
      "execution_count": null,
      "outputs": []
    },
    {
      "cell_type": "markdown",
      "source": [
        "10. Comment la valeur foncière varie-t-elle selon le type de bien ?"
      ],
      "metadata": {
        "id": "CCMivBbFPVhX"
      }
    },
    {
      "cell_type": "code",
      "source": [
        "grouped_vf_tl = df.loc[:, ['type_local', 'valeur_fonciere']]\n",
        "grouped_vf_tl = grouped_vf_tl.dropna(subset=['type_local'])\n",
        "fig = px.box(grouped_vf_tl, x=\"type_local\", y=\"valeur_fonciere\", points=\"all\",\n",
        "             labels={'type_local': 'Type de voie', 'valeur_fonciere': 'Valeur foncière'})\n",
        "\n",
        "fig.update_layout(title_text='Distribution de la valeur foncière selon le type de voie')\n",
        "fig.show()"
      ],
      "metadata": {
        "id": "wFUKo4a4NNZK"
      },
      "execution_count": null,
      "outputs": []
    },
    {
      "cell_type": "markdown",
      "source": [
        "##VI ] Combinaison\n"
      ],
      "metadata": {
        "id": "qp2dNUS4rqk5"
      }
    },
    {
      "cell_type": "markdown",
      "source": [
        "8. Comment les prix moyens du mètre carré pour les appartements et les maisons varient-ils selon la taille (surface) des biens en 2022 ?"
      ],
      "metadata": {
        "id": "FGBKWNq3KVmC"
      }
    },
    {
      "cell_type": "markdown",
      "source": [
        "6. Comment les prix moyens du mètre carré pour les appartements et les maisons varient-ils selon la taille (surface) des biens en France en 2022 ?"
      ],
      "metadata": {
        "id": "zmM-GyWcJgqh"
      }
    },
    {
      "cell_type": "markdown",
      "source": [
        "\n",
        "\n",
        "---\n",
        "\n",
        "\n",
        "***Licence :***\n",
        "[Licence Ouverte / Open Licence version 2.0](https://www.etalab.gouv.fr/licence-ouverte-open-licence/)\n",
        "> ![Logo-licence-ouverte2.png](data:image/png;base64,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)\n"
      ],
      "metadata": {
        "id": "CM57AAKyo8Y7"
      }
    },
    {
      "cell_type": "code",
      "source": [
        "!pip install geopy\n",
        "from geopy.geocoders import Nominatim\n",
        "\n",
        "geolocator = Nominatim(timeout=10, user_agent = \"language.python.esilv\")\n",
        "\n",
        "def get_lat_long(row):\n",
        "    address = f\"{row['no_voie']} {row['type_de_voie']} {row['voie']}, {row['code_postal']} {row['commune']}\"\n",
        "    address = address.replace('nan ', '').replace('<Nan> ', '').replace('<NA> ', '')\n",
        "    location = geolocator.geocode(address)\n",
        "    if location is not None:\n",
        "        return location.latitude, location.longitude\n",
        "    else:\n",
        "        return None, None\n",
        "\n",
        "for i in range(len(df)):\n",
        "   df.loc[i, ['latitude', 'longitude']] = get_lat_long(df.iloc[i])\n"
      ],
      "metadata": {
        "colab": {
          "base_uri": "https://localhost:8080/",
          "height": 381
        },
        "id": "VkDoXwFJWyxm",
        "outputId": "adda08e2-bce6-4c4c-aab9-5c808808c914"
      },
      "execution_count": null,
      "outputs": [
        {
          "output_type": "stream",
          "name": "stdout",
          "text": [
            "Looking in indexes: https://pypi.org/simple, https://us-python.pkg.dev/colab-wheels/public/simple/\n",
            "Requirement already satisfied: geopy in /usr/local/lib/python3.9/dist-packages (2.3.0)\n",
            "Requirement already satisfied: geographiclib<3,>=1.52 in /usr/local/lib/python3.9/dist-packages (from geopy) (2.0)\n"
          ]
        },
        {
          "output_type": "error",
          "ename": "KeyboardInterrupt",
          "evalue": "ignored",
          "traceback": [
            "\u001b[0;31m---------------------------------------------------------------------------\u001b[0m",
            "\u001b[0;31mKeyboardInterrupt\u001b[0m                         Traceback (most recent call last)",
            "\u001b[0;32m<ipython-input-22-16d86a7652b8>\u001b[0m in \u001b[0;36m<cell line: 15>\u001b[0;34m()\u001b[0m\n\u001b[1;32m     14\u001b[0m \u001b[0;34m\u001b[0m\u001b[0m\n\u001b[1;32m     15\u001b[0m \u001b[0;32mfor\u001b[0m \u001b[0mi\u001b[0m \u001b[0;32min\u001b[0m \u001b[0mrange\u001b[0m\u001b[0;34m(\u001b[0m\u001b[0mlen\u001b[0m\u001b[0;34m(\u001b[0m\u001b[0mdf\u001b[0m\u001b[0;34m)\u001b[0m\u001b[0;34m)\u001b[0m\u001b[0;34m:\u001b[0m\u001b[0;34m\u001b[0m\u001b[0;34m\u001b[0m\u001b[0m\n\u001b[0;32m---> 16\u001b[0;31m    \u001b[0mdf\u001b[0m\u001b[0;34m.\u001b[0m\u001b[0mloc\u001b[0m\u001b[0;34m[\u001b[0m\u001b[0mi\u001b[0m\u001b[0;34m,\u001b[0m \u001b[0;34m[\u001b[0m\u001b[0;34m'latitude'\u001b[0m\u001b[0;34m,\u001b[0m \u001b[0;34m'longitude'\u001b[0m\u001b[0;34m]\u001b[0m\u001b[0;34m]\u001b[0m \u001b[0;34m=\u001b[0m \u001b[0mget_lat_long\u001b[0m\u001b[0;34m(\u001b[0m\u001b[0mdf\u001b[0m\u001b[0;34m.\u001b[0m\u001b[0miloc\u001b[0m\u001b[0;34m[\u001b[0m\u001b[0mi\u001b[0m\u001b[0;34m]\u001b[0m\u001b[0;34m)\u001b[0m\u001b[0;34m\u001b[0m\u001b[0;34m\u001b[0m\u001b[0m\n\u001b[0m",
            "\u001b[0;32m<ipython-input-22-16d86a7652b8>\u001b[0m in \u001b[0;36mget_lat_long\u001b[0;34m(row)\u001b[0m\n\u001b[1;32m      7\u001b[0m     \u001b[0maddress\u001b[0m \u001b[0;34m=\u001b[0m \u001b[0;34mf\"{row['no_voie']} {row['type_de_voie']} {row['voie']}, {row['code_postal']} {row['commune']}\"\u001b[0m\u001b[0;34m\u001b[0m\u001b[0;34m\u001b[0m\u001b[0m\n\u001b[1;32m      8\u001b[0m     \u001b[0maddress\u001b[0m \u001b[0;34m=\u001b[0m \u001b[0maddress\u001b[0m\u001b[0;34m.\u001b[0m\u001b[0mreplace\u001b[0m\u001b[0;34m(\u001b[0m\u001b[0;34m'nan '\u001b[0m\u001b[0;34m,\u001b[0m \u001b[0;34m''\u001b[0m\u001b[0;34m)\u001b[0m\u001b[0;34m.\u001b[0m\u001b[0mreplace\u001b[0m\u001b[0;34m(\u001b[0m\u001b[0;34m'<Nan> '\u001b[0m\u001b[0;34m,\u001b[0m \u001b[0;34m''\u001b[0m\u001b[0;34m)\u001b[0m\u001b[0;34m.\u001b[0m\u001b[0mreplace\u001b[0m\u001b[0;34m(\u001b[0m\u001b[0;34m'<NA> '\u001b[0m\u001b[0;34m,\u001b[0m \u001b[0;34m''\u001b[0m\u001b[0;34m)\u001b[0m\u001b[0;34m\u001b[0m\u001b[0;34m\u001b[0m\u001b[0m\n\u001b[0;32m----> 9\u001b[0;31m     \u001b[0mlocation\u001b[0m \u001b[0;34m=\u001b[0m \u001b[0mgeolocator\u001b[0m\u001b[0;34m.\u001b[0m\u001b[0mgeocode\u001b[0m\u001b[0;34m(\u001b[0m\u001b[0maddress\u001b[0m\u001b[0;34m)\u001b[0m\u001b[0;34m\u001b[0m\u001b[0;34m\u001b[0m\u001b[0m\n\u001b[0m\u001b[1;32m     10\u001b[0m     \u001b[0;32mif\u001b[0m \u001b[0mlocation\u001b[0m \u001b[0;32mis\u001b[0m \u001b[0;32mnot\u001b[0m \u001b[0;32mNone\u001b[0m\u001b[0;34m:\u001b[0m\u001b[0;34m\u001b[0m\u001b[0;34m\u001b[0m\u001b[0m\n\u001b[1;32m     11\u001b[0m         \u001b[0;32mreturn\u001b[0m \u001b[0mlocation\u001b[0m\u001b[0;34m.\u001b[0m\u001b[0mlatitude\u001b[0m\u001b[0;34m,\u001b[0m \u001b[0mlocation\u001b[0m\u001b[0;34m.\u001b[0m\u001b[0mlongitude\u001b[0m\u001b[0;34m\u001b[0m\u001b[0;34m\u001b[0m\u001b[0m\n",
            "\u001b[0;32m/usr/local/lib/python3.9/dist-packages/geopy/geocoders/nominatim.py\u001b[0m in \u001b[0;36mgeocode\u001b[0;34m(self, query, exactly_one, timeout, limit, addressdetails, language, geometry, extratags, country_codes, viewbox, bounded, featuretype, namedetails)\u001b[0m\n\u001b[1;32m    295\u001b[0m         \u001b[0mlogger\u001b[0m\u001b[0;34m.\u001b[0m\u001b[0mdebug\u001b[0m\u001b[0;34m(\u001b[0m\u001b[0;34m\"%s.geocode: %s\"\u001b[0m\u001b[0;34m,\u001b[0m \u001b[0mself\u001b[0m\u001b[0;34m.\u001b[0m\u001b[0m__class__\u001b[0m\u001b[0;34m.\u001b[0m\u001b[0m__name__\u001b[0m\u001b[0;34m,\u001b[0m \u001b[0murl\u001b[0m\u001b[0;34m)\u001b[0m\u001b[0;34m\u001b[0m\u001b[0;34m\u001b[0m\u001b[0m\n\u001b[1;32m    296\u001b[0m         \u001b[0mcallback\u001b[0m \u001b[0;34m=\u001b[0m \u001b[0mpartial\u001b[0m\u001b[0;34m(\u001b[0m\u001b[0mself\u001b[0m\u001b[0;34m.\u001b[0m\u001b[0m_parse_json\u001b[0m\u001b[0;34m,\u001b[0m \u001b[0mexactly_one\u001b[0m\u001b[0;34m=\u001b[0m\u001b[0mexactly_one\u001b[0m\u001b[0;34m)\u001b[0m\u001b[0;34m\u001b[0m\u001b[0;34m\u001b[0m\u001b[0m\n\u001b[0;32m--> 297\u001b[0;31m         \u001b[0;32mreturn\u001b[0m \u001b[0mself\u001b[0m\u001b[0;34m.\u001b[0m\u001b[0m_call_geocoder\u001b[0m\u001b[0;34m(\u001b[0m\u001b[0murl\u001b[0m\u001b[0;34m,\u001b[0m \u001b[0mcallback\u001b[0m\u001b[0;34m,\u001b[0m \u001b[0mtimeout\u001b[0m\u001b[0;34m=\u001b[0m\u001b[0mtimeout\u001b[0m\u001b[0;34m)\u001b[0m\u001b[0;34m\u001b[0m\u001b[0;34m\u001b[0m\u001b[0m\n\u001b[0m\u001b[1;32m    298\u001b[0m \u001b[0;34m\u001b[0m\u001b[0m\n\u001b[1;32m    299\u001b[0m     def reverse(\n",
            "\u001b[0;32m/usr/local/lib/python3.9/dist-packages/geopy/geocoders/base.py\u001b[0m in \u001b[0;36m_call_geocoder\u001b[0;34m(self, url, callback, timeout, is_json, headers)\u001b[0m\n\u001b[1;32m    366\u001b[0m         \u001b[0;32mtry\u001b[0m\u001b[0;34m:\u001b[0m\u001b[0;34m\u001b[0m\u001b[0;34m\u001b[0m\u001b[0m\n\u001b[1;32m    367\u001b[0m             \u001b[0;32mif\u001b[0m \u001b[0mis_json\u001b[0m\u001b[0;34m:\u001b[0m\u001b[0;34m\u001b[0m\u001b[0;34m\u001b[0m\u001b[0m\n\u001b[0;32m--> 368\u001b[0;31m                 \u001b[0mresult\u001b[0m \u001b[0;34m=\u001b[0m \u001b[0mself\u001b[0m\u001b[0;34m.\u001b[0m\u001b[0madapter\u001b[0m\u001b[0;34m.\u001b[0m\u001b[0mget_json\u001b[0m\u001b[0;34m(\u001b[0m\u001b[0murl\u001b[0m\u001b[0;34m,\u001b[0m \u001b[0mtimeout\u001b[0m\u001b[0;34m=\u001b[0m\u001b[0mtimeout\u001b[0m\u001b[0;34m,\u001b[0m \u001b[0mheaders\u001b[0m\u001b[0;34m=\u001b[0m\u001b[0mreq_headers\u001b[0m\u001b[0;34m)\u001b[0m\u001b[0;34m\u001b[0m\u001b[0;34m\u001b[0m\u001b[0m\n\u001b[0m\u001b[1;32m    369\u001b[0m             \u001b[0;32melse\u001b[0m\u001b[0;34m:\u001b[0m\u001b[0;34m\u001b[0m\u001b[0;34m\u001b[0m\u001b[0m\n\u001b[1;32m    370\u001b[0m                 \u001b[0mresult\u001b[0m \u001b[0;34m=\u001b[0m \u001b[0mself\u001b[0m\u001b[0;34m.\u001b[0m\u001b[0madapter\u001b[0m\u001b[0;34m.\u001b[0m\u001b[0mget_text\u001b[0m\u001b[0;34m(\u001b[0m\u001b[0murl\u001b[0m\u001b[0;34m,\u001b[0m \u001b[0mtimeout\u001b[0m\u001b[0;34m=\u001b[0m\u001b[0mtimeout\u001b[0m\u001b[0;34m,\u001b[0m \u001b[0mheaders\u001b[0m\u001b[0;34m=\u001b[0m\u001b[0mreq_headers\u001b[0m\u001b[0;34m)\u001b[0m\u001b[0;34m\u001b[0m\u001b[0;34m\u001b[0m\u001b[0m\n",
            "\u001b[0;32m/usr/local/lib/python3.9/dist-packages/geopy/adapters.py\u001b[0m in \u001b[0;36mget_json\u001b[0;34m(self, url, timeout, headers)\u001b[0m\n\u001b[1;32m    445\u001b[0m \u001b[0;34m\u001b[0m\u001b[0m\n\u001b[1;32m    446\u001b[0m     \u001b[0;32mdef\u001b[0m \u001b[0mget_json\u001b[0m\u001b[0;34m(\u001b[0m\u001b[0mself\u001b[0m\u001b[0;34m,\u001b[0m \u001b[0murl\u001b[0m\u001b[0;34m,\u001b[0m \u001b[0;34m*\u001b[0m\u001b[0;34m,\u001b[0m \u001b[0mtimeout\u001b[0m\u001b[0;34m,\u001b[0m \u001b[0mheaders\u001b[0m\u001b[0;34m)\u001b[0m\u001b[0;34m:\u001b[0m\u001b[0;34m\u001b[0m\u001b[0;34m\u001b[0m\u001b[0m\n\u001b[0;32m--> 447\u001b[0;31m         \u001b[0mresp\u001b[0m \u001b[0;34m=\u001b[0m \u001b[0mself\u001b[0m\u001b[0;34m.\u001b[0m\u001b[0m_request\u001b[0m\u001b[0;34m(\u001b[0m\u001b[0murl\u001b[0m\u001b[0;34m,\u001b[0m \u001b[0mtimeout\u001b[0m\u001b[0;34m=\u001b[0m\u001b[0mtimeout\u001b[0m\u001b[0;34m,\u001b[0m \u001b[0mheaders\u001b[0m\u001b[0;34m=\u001b[0m\u001b[0mheaders\u001b[0m\u001b[0;34m)\u001b[0m\u001b[0;34m\u001b[0m\u001b[0;34m\u001b[0m\u001b[0m\n\u001b[0m\u001b[1;32m    448\u001b[0m         \u001b[0;32mtry\u001b[0m\u001b[0;34m:\u001b[0m\u001b[0;34m\u001b[0m\u001b[0;34m\u001b[0m\u001b[0m\n\u001b[1;32m    449\u001b[0m             \u001b[0;32mreturn\u001b[0m \u001b[0mresp\u001b[0m\u001b[0;34m.\u001b[0m\u001b[0mjson\u001b[0m\u001b[0;34m(\u001b[0m\u001b[0;34m)\u001b[0m\u001b[0;34m\u001b[0m\u001b[0;34m\u001b[0m\u001b[0m\n",
            "\u001b[0;32m/usr/local/lib/python3.9/dist-packages/geopy/adapters.py\u001b[0m in \u001b[0;36m_request\u001b[0;34m(self, url, timeout, headers)\u001b[0m\n\u001b[1;32m    455\u001b[0m     \u001b[0;32mdef\u001b[0m \u001b[0m_request\u001b[0m\u001b[0;34m(\u001b[0m\u001b[0mself\u001b[0m\u001b[0;34m,\u001b[0m \u001b[0murl\u001b[0m\u001b[0;34m,\u001b[0m \u001b[0;34m*\u001b[0m\u001b[0;34m,\u001b[0m \u001b[0mtimeout\u001b[0m\u001b[0;34m,\u001b[0m \u001b[0mheaders\u001b[0m\u001b[0;34m)\u001b[0m\u001b[0;34m:\u001b[0m\u001b[0;34m\u001b[0m\u001b[0;34m\u001b[0m\u001b[0m\n\u001b[1;32m    456\u001b[0m         \u001b[0;32mtry\u001b[0m\u001b[0;34m:\u001b[0m\u001b[0;34m\u001b[0m\u001b[0;34m\u001b[0m\u001b[0m\n\u001b[0;32m--> 457\u001b[0;31m             \u001b[0mresp\u001b[0m \u001b[0;34m=\u001b[0m \u001b[0mself\u001b[0m\u001b[0;34m.\u001b[0m\u001b[0msession\u001b[0m\u001b[0;34m.\u001b[0m\u001b[0mget\u001b[0m\u001b[0;34m(\u001b[0m\u001b[0murl\u001b[0m\u001b[0;34m,\u001b[0m \u001b[0mtimeout\u001b[0m\u001b[0;34m=\u001b[0m\u001b[0mtimeout\u001b[0m\u001b[0;34m,\u001b[0m \u001b[0mheaders\u001b[0m\u001b[0;34m=\u001b[0m\u001b[0mheaders\u001b[0m\u001b[0;34m)\u001b[0m\u001b[0;34m\u001b[0m\u001b[0;34m\u001b[0m\u001b[0m\n\u001b[0m\u001b[1;32m    458\u001b[0m         \u001b[0;32mexcept\u001b[0m \u001b[0mException\u001b[0m \u001b[0;32mas\u001b[0m \u001b[0merror\u001b[0m\u001b[0;34m:\u001b[0m\u001b[0;34m\u001b[0m\u001b[0;34m\u001b[0m\u001b[0m\n\u001b[1;32m    459\u001b[0m             \u001b[0mmessage\u001b[0m \u001b[0;34m=\u001b[0m \u001b[0mstr\u001b[0m\u001b[0;34m(\u001b[0m\u001b[0merror\u001b[0m\u001b[0;34m)\u001b[0m\u001b[0;34m\u001b[0m\u001b[0;34m\u001b[0m\u001b[0m\n",
            "\u001b[0;32m/usr/local/lib/python3.9/dist-packages/requests/sessions.py\u001b[0m in \u001b[0;36mget\u001b[0;34m(self, url, **kwargs)\u001b[0m\n\u001b[1;32m    540\u001b[0m \u001b[0;34m\u001b[0m\u001b[0m\n\u001b[1;32m    541\u001b[0m         \u001b[0mkwargs\u001b[0m\u001b[0;34m.\u001b[0m\u001b[0msetdefault\u001b[0m\u001b[0;34m(\u001b[0m\u001b[0;34m'allow_redirects'\u001b[0m\u001b[0;34m,\u001b[0m \u001b[0;32mTrue\u001b[0m\u001b[0;34m)\u001b[0m\u001b[0;34m\u001b[0m\u001b[0;34m\u001b[0m\u001b[0m\n\u001b[0;32m--> 542\u001b[0;31m         \u001b[0;32mreturn\u001b[0m \u001b[0mself\u001b[0m\u001b[0;34m.\u001b[0m\u001b[0mrequest\u001b[0m\u001b[0;34m(\u001b[0m\u001b[0;34m'GET'\u001b[0m\u001b[0;34m,\u001b[0m \u001b[0murl\u001b[0m\u001b[0;34m,\u001b[0m \u001b[0;34m**\u001b[0m\u001b[0mkwargs\u001b[0m\u001b[0;34m)\u001b[0m\u001b[0;34m\u001b[0m\u001b[0;34m\u001b[0m\u001b[0m\n\u001b[0m\u001b[1;32m    543\u001b[0m \u001b[0;34m\u001b[0m\u001b[0m\n\u001b[1;32m    544\u001b[0m     \u001b[0;32mdef\u001b[0m \u001b[0moptions\u001b[0m\u001b[0;34m(\u001b[0m\u001b[0mself\u001b[0m\u001b[0;34m,\u001b[0m \u001b[0murl\u001b[0m\u001b[0;34m,\u001b[0m \u001b[0;34m**\u001b[0m\u001b[0mkwargs\u001b[0m\u001b[0;34m)\u001b[0m\u001b[0;34m:\u001b[0m\u001b[0;34m\u001b[0m\u001b[0;34m\u001b[0m\u001b[0m\n",
            "\u001b[0;32m/usr/local/lib/python3.9/dist-packages/requests/sessions.py\u001b[0m in \u001b[0;36mrequest\u001b[0;34m(self, method, url, params, data, headers, cookies, files, auth, timeout, allow_redirects, proxies, hooks, stream, verify, cert, json)\u001b[0m\n\u001b[1;32m    527\u001b[0m         }\n\u001b[1;32m    528\u001b[0m         \u001b[0msend_kwargs\u001b[0m\u001b[0;34m.\u001b[0m\u001b[0mupdate\u001b[0m\u001b[0;34m(\u001b[0m\u001b[0msettings\u001b[0m\u001b[0;34m)\u001b[0m\u001b[0;34m\u001b[0m\u001b[0;34m\u001b[0m\u001b[0m\n\u001b[0;32m--> 529\u001b[0;31m         \u001b[0mresp\u001b[0m \u001b[0;34m=\u001b[0m \u001b[0mself\u001b[0m\u001b[0;34m.\u001b[0m\u001b[0msend\u001b[0m\u001b[0;34m(\u001b[0m\u001b[0mprep\u001b[0m\u001b[0;34m,\u001b[0m \u001b[0;34m**\u001b[0m\u001b[0msend_kwargs\u001b[0m\u001b[0;34m)\u001b[0m\u001b[0;34m\u001b[0m\u001b[0;34m\u001b[0m\u001b[0m\n\u001b[0m\u001b[1;32m    530\u001b[0m \u001b[0;34m\u001b[0m\u001b[0m\n\u001b[1;32m    531\u001b[0m         \u001b[0;32mreturn\u001b[0m \u001b[0mresp\u001b[0m\u001b[0;34m\u001b[0m\u001b[0;34m\u001b[0m\u001b[0m\n",
            "\u001b[0;32m/usr/local/lib/python3.9/dist-packages/requests/sessions.py\u001b[0m in \u001b[0;36msend\u001b[0;34m(self, request, **kwargs)\u001b[0m\n\u001b[1;32m    643\u001b[0m \u001b[0;34m\u001b[0m\u001b[0m\n\u001b[1;32m    644\u001b[0m         \u001b[0;31m# Send the request\u001b[0m\u001b[0;34m\u001b[0m\u001b[0;34m\u001b[0m\u001b[0m\n\u001b[0;32m--> 645\u001b[0;31m         \u001b[0mr\u001b[0m \u001b[0;34m=\u001b[0m \u001b[0madapter\u001b[0m\u001b[0;34m.\u001b[0m\u001b[0msend\u001b[0m\u001b[0;34m(\u001b[0m\u001b[0mrequest\u001b[0m\u001b[0;34m,\u001b[0m \u001b[0;34m**\u001b[0m\u001b[0mkwargs\u001b[0m\u001b[0;34m)\u001b[0m\u001b[0;34m\u001b[0m\u001b[0;34m\u001b[0m\u001b[0m\n\u001b[0m\u001b[1;32m    646\u001b[0m \u001b[0;34m\u001b[0m\u001b[0m\n\u001b[1;32m    647\u001b[0m         \u001b[0;31m# Total elapsed time of the request (approximately)\u001b[0m\u001b[0;34m\u001b[0m\u001b[0;34m\u001b[0m\u001b[0m\n",
            "\u001b[0;32m/usr/local/lib/python3.9/dist-packages/requests/adapters.py\u001b[0m in \u001b[0;36msend\u001b[0;34m(self, request, stream, timeout, verify, cert, proxies)\u001b[0m\n\u001b[1;32m    438\u001b[0m         \u001b[0;32mtry\u001b[0m\u001b[0;34m:\u001b[0m\u001b[0;34m\u001b[0m\u001b[0;34m\u001b[0m\u001b[0m\n\u001b[1;32m    439\u001b[0m             \u001b[0;32mif\u001b[0m \u001b[0;32mnot\u001b[0m \u001b[0mchunked\u001b[0m\u001b[0;34m:\u001b[0m\u001b[0;34m\u001b[0m\u001b[0;34m\u001b[0m\u001b[0m\n\u001b[0;32m--> 440\u001b[0;31m                 resp = conn.urlopen(\n\u001b[0m\u001b[1;32m    441\u001b[0m                     \u001b[0mmethod\u001b[0m\u001b[0;34m=\u001b[0m\u001b[0mrequest\u001b[0m\u001b[0;34m.\u001b[0m\u001b[0mmethod\u001b[0m\u001b[0;34m,\u001b[0m\u001b[0;34m\u001b[0m\u001b[0;34m\u001b[0m\u001b[0m\n\u001b[1;32m    442\u001b[0m                     \u001b[0murl\u001b[0m\u001b[0;34m=\u001b[0m\u001b[0murl\u001b[0m\u001b[0;34m,\u001b[0m\u001b[0;34m\u001b[0m\u001b[0;34m\u001b[0m\u001b[0m\n",
            "\u001b[0;32m/usr/local/lib/python3.9/dist-packages/urllib3/connectionpool.py\u001b[0m in \u001b[0;36murlopen\u001b[0;34m(self, method, url, body, headers, retries, redirect, assert_same_host, timeout, pool_timeout, release_conn, chunked, body_pos, **response_kw)\u001b[0m\n\u001b[1;32m    701\u001b[0m \u001b[0;34m\u001b[0m\u001b[0m\n\u001b[1;32m    702\u001b[0m             \u001b[0;31m# Make the request on the httplib connection object.\u001b[0m\u001b[0;34m\u001b[0m\u001b[0;34m\u001b[0m\u001b[0m\n\u001b[0;32m--> 703\u001b[0;31m             httplib_response = self._make_request(\n\u001b[0m\u001b[1;32m    704\u001b[0m                 \u001b[0mconn\u001b[0m\u001b[0;34m,\u001b[0m\u001b[0;34m\u001b[0m\u001b[0;34m\u001b[0m\u001b[0m\n\u001b[1;32m    705\u001b[0m                 \u001b[0mmethod\u001b[0m\u001b[0;34m,\u001b[0m\u001b[0;34m\u001b[0m\u001b[0;34m\u001b[0m\u001b[0m\n",
            "\u001b[0;32m/usr/local/lib/python3.9/dist-packages/urllib3/connectionpool.py\u001b[0m in \u001b[0;36m_make_request\u001b[0;34m(self, conn, method, url, timeout, chunked, **httplib_request_kw)\u001b[0m\n\u001b[1;32m    447\u001b[0m                     \u001b[0;31m# Python 3 (including for exceptions like SystemExit).\u001b[0m\u001b[0;34m\u001b[0m\u001b[0;34m\u001b[0m\u001b[0m\n\u001b[1;32m    448\u001b[0m                     \u001b[0;31m# Otherwise it looks like a bug in the code.\u001b[0m\u001b[0;34m\u001b[0m\u001b[0;34m\u001b[0m\u001b[0m\n\u001b[0;32m--> 449\u001b[0;31m                     \u001b[0msix\u001b[0m\u001b[0;34m.\u001b[0m\u001b[0mraise_from\u001b[0m\u001b[0;34m(\u001b[0m\u001b[0me\u001b[0m\u001b[0;34m,\u001b[0m \u001b[0;32mNone\u001b[0m\u001b[0;34m)\u001b[0m\u001b[0;34m\u001b[0m\u001b[0;34m\u001b[0m\u001b[0m\n\u001b[0m\u001b[1;32m    450\u001b[0m         \u001b[0;32mexcept\u001b[0m \u001b[0;34m(\u001b[0m\u001b[0mSocketTimeout\u001b[0m\u001b[0;34m,\u001b[0m \u001b[0mBaseSSLError\u001b[0m\u001b[0;34m,\u001b[0m \u001b[0mSocketError\u001b[0m\u001b[0;34m)\u001b[0m \u001b[0;32mas\u001b[0m \u001b[0me\u001b[0m\u001b[0;34m:\u001b[0m\u001b[0;34m\u001b[0m\u001b[0;34m\u001b[0m\u001b[0m\n\u001b[1;32m    451\u001b[0m             \u001b[0mself\u001b[0m\u001b[0;34m.\u001b[0m\u001b[0m_raise_timeout\u001b[0m\u001b[0;34m(\u001b[0m\u001b[0merr\u001b[0m\u001b[0;34m=\u001b[0m\u001b[0me\u001b[0m\u001b[0;34m,\u001b[0m \u001b[0murl\u001b[0m\u001b[0;34m=\u001b[0m\u001b[0murl\u001b[0m\u001b[0;34m,\u001b[0m \u001b[0mtimeout_value\u001b[0m\u001b[0;34m=\u001b[0m\u001b[0mread_timeout\u001b[0m\u001b[0;34m)\u001b[0m\u001b[0;34m\u001b[0m\u001b[0;34m\u001b[0m\u001b[0m\n",
            "\u001b[0;32m/usr/local/lib/python3.9/dist-packages/urllib3/packages/six.py\u001b[0m in \u001b[0;36mraise_from\u001b[0;34m(value, from_value)\u001b[0m\n",
            "\u001b[0;32m/usr/local/lib/python3.9/dist-packages/urllib3/connectionpool.py\u001b[0m in \u001b[0;36m_make_request\u001b[0;34m(self, conn, method, url, timeout, chunked, **httplib_request_kw)\u001b[0m\n\u001b[1;32m    442\u001b[0m                 \u001b[0;31m# Python 3\u001b[0m\u001b[0;34m\u001b[0m\u001b[0;34m\u001b[0m\u001b[0m\n\u001b[1;32m    443\u001b[0m                 \u001b[0;32mtry\u001b[0m\u001b[0;34m:\u001b[0m\u001b[0;34m\u001b[0m\u001b[0;34m\u001b[0m\u001b[0m\n\u001b[0;32m--> 444\u001b[0;31m                     \u001b[0mhttplib_response\u001b[0m \u001b[0;34m=\u001b[0m \u001b[0mconn\u001b[0m\u001b[0;34m.\u001b[0m\u001b[0mgetresponse\u001b[0m\u001b[0;34m(\u001b[0m\u001b[0;34m)\u001b[0m\u001b[0;34m\u001b[0m\u001b[0;34m\u001b[0m\u001b[0m\n\u001b[0m\u001b[1;32m    445\u001b[0m                 \u001b[0;32mexcept\u001b[0m \u001b[0mBaseException\u001b[0m \u001b[0;32mas\u001b[0m \u001b[0me\u001b[0m\u001b[0;34m:\u001b[0m\u001b[0;34m\u001b[0m\u001b[0;34m\u001b[0m\u001b[0m\n\u001b[1;32m    446\u001b[0m                     \u001b[0;31m# Remove the TypeError from the exception chain in\u001b[0m\u001b[0;34m\u001b[0m\u001b[0;34m\u001b[0m\u001b[0m\n",
            "\u001b[0;32m/usr/lib/python3.9/http/client.py\u001b[0m in \u001b[0;36mgetresponse\u001b[0;34m(self)\u001b[0m\n\u001b[1;32m   1375\u001b[0m         \u001b[0;32mtry\u001b[0m\u001b[0;34m:\u001b[0m\u001b[0;34m\u001b[0m\u001b[0;34m\u001b[0m\u001b[0m\n\u001b[1;32m   1376\u001b[0m             \u001b[0;32mtry\u001b[0m\u001b[0;34m:\u001b[0m\u001b[0;34m\u001b[0m\u001b[0;34m\u001b[0m\u001b[0m\n\u001b[0;32m-> 1377\u001b[0;31m                 \u001b[0mresponse\u001b[0m\u001b[0;34m.\u001b[0m\u001b[0mbegin\u001b[0m\u001b[0;34m(\u001b[0m\u001b[0;34m)\u001b[0m\u001b[0;34m\u001b[0m\u001b[0;34m\u001b[0m\u001b[0m\n\u001b[0m\u001b[1;32m   1378\u001b[0m             \u001b[0;32mexcept\u001b[0m \u001b[0mConnectionError\u001b[0m\u001b[0;34m:\u001b[0m\u001b[0;34m\u001b[0m\u001b[0;34m\u001b[0m\u001b[0m\n\u001b[1;32m   1379\u001b[0m                 \u001b[0mself\u001b[0m\u001b[0;34m.\u001b[0m\u001b[0mclose\u001b[0m\u001b[0;34m(\u001b[0m\u001b[0;34m)\u001b[0m\u001b[0;34m\u001b[0m\u001b[0;34m\u001b[0m\u001b[0m\n",
            "\u001b[0;32m/usr/lib/python3.9/http/client.py\u001b[0m in \u001b[0;36mbegin\u001b[0;34m(self)\u001b[0m\n\u001b[1;32m    318\u001b[0m         \u001b[0;31m# read until we get a non-100 response\u001b[0m\u001b[0;34m\u001b[0m\u001b[0;34m\u001b[0m\u001b[0m\n\u001b[1;32m    319\u001b[0m         \u001b[0;32mwhile\u001b[0m \u001b[0;32mTrue\u001b[0m\u001b[0;34m:\u001b[0m\u001b[0;34m\u001b[0m\u001b[0;34m\u001b[0m\u001b[0m\n\u001b[0;32m--> 320\u001b[0;31m             \u001b[0mversion\u001b[0m\u001b[0;34m,\u001b[0m \u001b[0mstatus\u001b[0m\u001b[0;34m,\u001b[0m \u001b[0mreason\u001b[0m \u001b[0;34m=\u001b[0m \u001b[0mself\u001b[0m\u001b[0;34m.\u001b[0m\u001b[0m_read_status\u001b[0m\u001b[0;34m(\u001b[0m\u001b[0;34m)\u001b[0m\u001b[0;34m\u001b[0m\u001b[0;34m\u001b[0m\u001b[0m\n\u001b[0m\u001b[1;32m    321\u001b[0m             \u001b[0;32mif\u001b[0m \u001b[0mstatus\u001b[0m \u001b[0;34m!=\u001b[0m \u001b[0mCONTINUE\u001b[0m\u001b[0;34m:\u001b[0m\u001b[0;34m\u001b[0m\u001b[0;34m\u001b[0m\u001b[0m\n\u001b[1;32m    322\u001b[0m                 \u001b[0;32mbreak\u001b[0m\u001b[0;34m\u001b[0m\u001b[0;34m\u001b[0m\u001b[0m\n",
            "\u001b[0;32m/usr/lib/python3.9/http/client.py\u001b[0m in \u001b[0;36m_read_status\u001b[0;34m(self)\u001b[0m\n\u001b[1;32m    279\u001b[0m \u001b[0;34m\u001b[0m\u001b[0m\n\u001b[1;32m    280\u001b[0m     \u001b[0;32mdef\u001b[0m \u001b[0m_read_status\u001b[0m\u001b[0;34m(\u001b[0m\u001b[0mself\u001b[0m\u001b[0;34m)\u001b[0m\u001b[0;34m:\u001b[0m\u001b[0;34m\u001b[0m\u001b[0;34m\u001b[0m\u001b[0m\n\u001b[0;32m--> 281\u001b[0;31m         \u001b[0mline\u001b[0m \u001b[0;34m=\u001b[0m \u001b[0mstr\u001b[0m\u001b[0;34m(\u001b[0m\u001b[0mself\u001b[0m\u001b[0;34m.\u001b[0m\u001b[0mfp\u001b[0m\u001b[0;34m.\u001b[0m\u001b[0mreadline\u001b[0m\u001b[0;34m(\u001b[0m\u001b[0m_MAXLINE\u001b[0m \u001b[0;34m+\u001b[0m \u001b[0;36m1\u001b[0m\u001b[0;34m)\u001b[0m\u001b[0;34m,\u001b[0m \u001b[0;34m\"iso-8859-1\"\u001b[0m\u001b[0;34m)\u001b[0m\u001b[0;34m\u001b[0m\u001b[0;34m\u001b[0m\u001b[0m\n\u001b[0m\u001b[1;32m    282\u001b[0m         \u001b[0;32mif\u001b[0m \u001b[0mlen\u001b[0m\u001b[0;34m(\u001b[0m\u001b[0mline\u001b[0m\u001b[0;34m)\u001b[0m \u001b[0;34m>\u001b[0m \u001b[0m_MAXLINE\u001b[0m\u001b[0;34m:\u001b[0m\u001b[0;34m\u001b[0m\u001b[0;34m\u001b[0m\u001b[0m\n\u001b[1;32m    283\u001b[0m             \u001b[0;32mraise\u001b[0m \u001b[0mLineTooLong\u001b[0m\u001b[0;34m(\u001b[0m\u001b[0;34m\"status line\"\u001b[0m\u001b[0;34m)\u001b[0m\u001b[0;34m\u001b[0m\u001b[0;34m\u001b[0m\u001b[0m\n",
            "\u001b[0;32m/usr/lib/python3.9/socket.py\u001b[0m in \u001b[0;36mreadinto\u001b[0;34m(self, b)\u001b[0m\n\u001b[1;32m    702\u001b[0m         \u001b[0;32mwhile\u001b[0m \u001b[0;32mTrue\u001b[0m\u001b[0;34m:\u001b[0m\u001b[0;34m\u001b[0m\u001b[0;34m\u001b[0m\u001b[0m\n\u001b[1;32m    703\u001b[0m             \u001b[0;32mtry\u001b[0m\u001b[0;34m:\u001b[0m\u001b[0;34m\u001b[0m\u001b[0;34m\u001b[0m\u001b[0m\n\u001b[0;32m--> 704\u001b[0;31m                 \u001b[0;32mreturn\u001b[0m \u001b[0mself\u001b[0m\u001b[0;34m.\u001b[0m\u001b[0m_sock\u001b[0m\u001b[0;34m.\u001b[0m\u001b[0mrecv_into\u001b[0m\u001b[0;34m(\u001b[0m\u001b[0mb\u001b[0m\u001b[0;34m)\u001b[0m\u001b[0;34m\u001b[0m\u001b[0;34m\u001b[0m\u001b[0m\n\u001b[0m\u001b[1;32m    705\u001b[0m             \u001b[0;32mexcept\u001b[0m \u001b[0mtimeout\u001b[0m\u001b[0;34m:\u001b[0m\u001b[0;34m\u001b[0m\u001b[0;34m\u001b[0m\u001b[0m\n\u001b[1;32m    706\u001b[0m                 \u001b[0mself\u001b[0m\u001b[0;34m.\u001b[0m\u001b[0m_timeout_occurred\u001b[0m \u001b[0;34m=\u001b[0m \u001b[0;32mTrue\u001b[0m\u001b[0;34m\u001b[0m\u001b[0;34m\u001b[0m\u001b[0m\n",
            "\u001b[0;32m/usr/lib/python3.9/ssl.py\u001b[0m in \u001b[0;36mrecv_into\u001b[0;34m(self, buffer, nbytes, flags)\u001b[0m\n\u001b[1;32m   1240\u001b[0m                   \u001b[0;34m\"non-zero flags not allowed in calls to recv_into() on %s\"\u001b[0m \u001b[0;34m%\u001b[0m\u001b[0;34m\u001b[0m\u001b[0;34m\u001b[0m\u001b[0m\n\u001b[1;32m   1241\u001b[0m                   self.__class__)\n\u001b[0;32m-> 1242\u001b[0;31m             \u001b[0;32mreturn\u001b[0m \u001b[0mself\u001b[0m\u001b[0;34m.\u001b[0m\u001b[0mread\u001b[0m\u001b[0;34m(\u001b[0m\u001b[0mnbytes\u001b[0m\u001b[0;34m,\u001b[0m \u001b[0mbuffer\u001b[0m\u001b[0;34m)\u001b[0m\u001b[0;34m\u001b[0m\u001b[0;34m\u001b[0m\u001b[0m\n\u001b[0m\u001b[1;32m   1243\u001b[0m         \u001b[0;32melse\u001b[0m\u001b[0;34m:\u001b[0m\u001b[0;34m\u001b[0m\u001b[0;34m\u001b[0m\u001b[0m\n\u001b[1;32m   1244\u001b[0m             \u001b[0;32mreturn\u001b[0m \u001b[0msuper\u001b[0m\u001b[0;34m(\u001b[0m\u001b[0;34m)\u001b[0m\u001b[0;34m.\u001b[0m\u001b[0mrecv_into\u001b[0m\u001b[0;34m(\u001b[0m\u001b[0mbuffer\u001b[0m\u001b[0;34m,\u001b[0m \u001b[0mnbytes\u001b[0m\u001b[0;34m,\u001b[0m \u001b[0mflags\u001b[0m\u001b[0;34m)\u001b[0m\u001b[0;34m\u001b[0m\u001b[0;34m\u001b[0m\u001b[0m\n",
            "\u001b[0;32m/usr/lib/python3.9/ssl.py\u001b[0m in \u001b[0;36mread\u001b[0;34m(self, len, buffer)\u001b[0m\n\u001b[1;32m   1098\u001b[0m         \u001b[0;32mtry\u001b[0m\u001b[0;34m:\u001b[0m\u001b[0;34m\u001b[0m\u001b[0;34m\u001b[0m\u001b[0m\n\u001b[1;32m   1099\u001b[0m             \u001b[0;32mif\u001b[0m \u001b[0mbuffer\u001b[0m \u001b[0;32mis\u001b[0m \u001b[0;32mnot\u001b[0m \u001b[0;32mNone\u001b[0m\u001b[0;34m:\u001b[0m\u001b[0;34m\u001b[0m\u001b[0;34m\u001b[0m\u001b[0m\n\u001b[0;32m-> 1100\u001b[0;31m                 \u001b[0;32mreturn\u001b[0m \u001b[0mself\u001b[0m\u001b[0;34m.\u001b[0m\u001b[0m_sslobj\u001b[0m\u001b[0;34m.\u001b[0m\u001b[0mread\u001b[0m\u001b[0;34m(\u001b[0m\u001b[0mlen\u001b[0m\u001b[0;34m,\u001b[0m \u001b[0mbuffer\u001b[0m\u001b[0;34m)\u001b[0m\u001b[0;34m\u001b[0m\u001b[0;34m\u001b[0m\u001b[0m\n\u001b[0m\u001b[1;32m   1101\u001b[0m             \u001b[0;32melse\u001b[0m\u001b[0;34m:\u001b[0m\u001b[0;34m\u001b[0m\u001b[0;34m\u001b[0m\u001b[0m\n\u001b[1;32m   1102\u001b[0m                 \u001b[0;32mreturn\u001b[0m \u001b[0mself\u001b[0m\u001b[0;34m.\u001b[0m\u001b[0m_sslobj\u001b[0m\u001b[0;34m.\u001b[0m\u001b[0mread\u001b[0m\u001b[0;34m(\u001b[0m\u001b[0mlen\u001b[0m\u001b[0;34m)\u001b[0m\u001b[0;34m\u001b[0m\u001b[0;34m\u001b[0m\u001b[0m\n",
            "\u001b[0;31mKeyboardInterrupt\u001b[0m: "
          ]
        }
      ]
    }
  ]
}